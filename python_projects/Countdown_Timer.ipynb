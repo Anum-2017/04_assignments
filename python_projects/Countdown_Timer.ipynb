{
  "cells": [
    {
      "cell_type": "markdown",
      "metadata": {
        "id": "NAAMALgCRUZx"
      },
      "source": [
        "# **Project 6 Countdown Timer Python Project!**"
      ]
    },
    {
      "cell_type": "code",
      "execution_count": 6,
      "metadata": {
        "colab": {
          "base_uri": "https://localhost:8080/"
        },
        "id": "bUB6v-72O5It",
        "outputId": "2a9f0879-91f9-4cb1-e75d-b2c797e7aefe"
      },
      "outputs": [
        {
          "output_type": "stream",
          "name": "stdout",
          "text": [
            "Enter time in seconds: 10\n",
            "\n",
            "⏳ Starting countdown... \n",
            "\n",
            "00:10\n",
            "00:09\n",
            "00:08\n",
            "00:07\n",
            "00:06\n",
            "00:05\n",
            "00:04\n",
            "00:03\n",
            "00:02\n",
            "00:01\n",
            "\n",
            "⏰ Time's up!\n"
          ]
        }
      ],
      "source": [
        "import time\n",
        "\n",
        "def countdown_timer(seconds):\n",
        "    while seconds:\n",
        "        mins, secs = divmod(seconds, 60)\n",
        "        timer_format = f\"{mins:02d}:{secs:02d}\"\n",
        "        print(timer_format)\n",
        "        time.sleep(1)\n",
        "        seconds -= 1\n",
        "\n",
        "    print(\"\\n⏰ Time's up!\")\n",
        "\n",
        "# Get input from user\n",
        "try:\n",
        "    total_seconds = int(input(\"Enter time in seconds: \"))\n",
        "    print(\"\\n⏳ Starting countdown... \\n\")\n",
        "    countdown_timer(total_seconds)\n",
        "except ValueError:\n",
        "    print(\"❌ Please enter a valid number.\")"
      ]
    }
  ],
  "metadata": {
    "colab": {
      "provenance": []
    },
    "kernelspec": {
      "display_name": "Python 3",
      "name": "python3"
    },
    "language_info": {
      "name": "python"
    }
  },
  "nbformat": 4,
  "nbformat_minor": 0
}