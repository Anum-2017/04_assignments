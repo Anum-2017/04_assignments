{
  "cells": [
    {
      "cell_type": "markdown",
      "metadata": {
        "id": "NAAMALgCRUZx"
      },
      "source": [
        "# **Project 6 Countdown Timer Python Project!**"
      ]
    },
    {
      "cell_type": "code",
      "execution_count": 3,
      "metadata": {
        "colab": {
          "base_uri": "https://localhost:8080/"
        },
        "id": "bUB6v-72O5It",
        "outputId": "1826ad95-54b7-4c8e-9c30-8a7863486a60"
      },
      "outputs": [
        {
          "output_type": "stream",
          "name": "stdout",
          "text": [
            "Enter time in seconds⏲: 10\n",
            "00:01\n",
            "Time's up! ⛔\n"
          ]
        }
      ],
      "source": [
        "import time\n",
        "\n",
        "def countdown_timer(seconds):\n",
        "    while seconds > 0:\n",
        "        mins, secs = divmod(seconds, 60)\n",
        "        print(f\"\\r{mins:02}:{secs:02}\", end=\"\")\n",
        "        time.sleep(1)\n",
        "        seconds -= 1\n",
        "\n",
        "    print(\"\\nTime's up! ⛔\")\n",
        "\n",
        "time_in_seconds = int(input(\"Enter time in seconds⏲: \"))\n",
        "countdown_timer(time_in_seconds)"
      ]
    }
  ],
  "metadata": {
    "colab": {
      "provenance": []
    },
    "kernelspec": {
      "display_name": "Python 3",
      "name": "python3"
    },
    "language_info": {
      "name": "python"
    }
  },
  "nbformat": 4,
  "nbformat_minor": 0
}