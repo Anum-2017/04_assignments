{
  "nbformat": 4,
  "nbformat_minor": 0,
  "metadata": {
    "colab": {
      "provenance": [],
      "authorship_tag": "ABX9TyM93+NRLMzK2L9IGG9U+syd",
      "include_colab_link": true
    },
    "kernelspec": {
      "name": "python3",
      "display_name": "Python 3"
    },
    "language_info": {
      "name": "python"
    }
  },
  "cells": [
    {
      "cell_type": "markdown",
      "metadata": {
        "id": "view-in-github",
        "colab_type": "text"
      },
      "source": [
        "<a href=\"https://colab.research.google.com/github/Anum-2017/04_assignments/blob/main/01_add_two_numbers.ipynb\" target=\"_parent\"><img src=\"https://colab.research.google.com/assets/colab-badge.svg\" alt=\"Open In Colab\"/></a>"
      ]
    },
    {
      "cell_type": "code",
      "execution_count": 7,
      "metadata": {
        "colab": {
          "base_uri": "https://localhost:8080/"
        },
        "id": "CtwbqfC_U86l",
        "outputId": "c8926f9c-b753-4fb9-db87-81693134e4bd"
      },
      "outputs": [
        {
          "output_type": "stream",
          "name": "stdout",
          "text": [
            "🎉 Welcome to the Addition Program! 😊🎯\n",
            "\n",
            "🔢 Enter first number: 5\n",
            "🔢 Enter second number: 8\n",
            "\n",
            "🎊 The total sum of 5 and 8 is: 13 🎉✅\n"
          ]
        }
      ],
      "source": [
        "def main():\n",
        "    \"\"\"\n",
        "    📌 This program takes two numbers as input from the user,\n",
        "    calculates their sum, and displays the result.\n",
        "    \"\"\"\n",
        "    print(\"🎉 Welcome to the Addition Program! 😊🎯\\n\")\n",
        "\n",
        "    # Prompting the user for first numbers and convert it to an integers\n",
        "    num1: str = input(\"🔢 Enter first number: \")\n",
        "    num1: int = int(num1)\n",
        "\n",
        "    # Prompt the user to enter the second number and convert it to an integer\n",
        "    num2: str = input(\"🔢 Enter second number: \")\n",
        "    num2: int = int(num2)\n",
        "\n",
        "    # Calculating the sum\n",
        "    total: int = num1 + num2\n",
        "\n",
        "    # Displaying the result with emojis\n",
        "    print(f\"\\n🎊 The total sum of {num1} and {num2} is: {total} 🎉✅\")\n",
        "\n",
        "    # Calling the function\n",
        "if __name__ == '__main__':\n",
        "    main()"
      ]
    }
  ]
}