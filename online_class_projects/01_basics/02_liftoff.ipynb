{
  "nbformat": 4,
  "nbformat_minor": 0,
  "metadata": {
    "colab": {
      "provenance": []
    },
    "kernelspec": {
      "name": "python3",
      "display_name": "Python 3"
    },
    "language_info": {
      "name": "python"
    }
  },
  "cells": [
    {
      "cell_type": "code",
      "execution_count": 9,
      "metadata": {
        "colab": {
          "base_uri": "https://localhost:8080/"
        },
        "id": "orWN4d2Al1Nh",
        "outputId": "fdca7d8c-6a75-4a3b-e421-1ef60707ee73"
      },
      "outputs": [
        {
          "output_type": "stream",
          "name": "stdout",
          "text": [
            "10\n",
            "9\n",
            "8\n",
            "7\n",
            "6\n",
            "5\n",
            "4\n",
            "3\n",
            "2\n",
            "1\n",
            "0\n",
            "\n",
            "🚀 Liftoff! 🚀\n"
          ]
        }
      ],
      "source": [
        "def liftoff():\n",
        "\n",
        "#range(start,stop, step)\n",
        "    for i in range(10, -1, -1):\n",
        "\n",
        "      print(i)\n",
        "\n",
        "    print(\"\\n🚀 Liftoff! 🚀\")\n",
        "\n",
        "liftoff()"
      ]
    }
  ]
}