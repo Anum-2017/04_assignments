{
  "nbformat": 4,
  "nbformat_minor": 0,
  "metadata": {
    "colab": {
      "provenance": []
    },
    "kernelspec": {
      "name": "python3",
      "display_name": "Python 3"
    },
    "language_info": {
      "name": "python"
    }
  },
  "cells": [
    {
      "cell_type": "code",
      "execution_count": 9,
      "metadata": {
        "colab": {
          "base_uri": "https://localhost:8080/"
        },
        "id": "qn4PmkYCitVO",
        "outputId": "b00a9a9e-de6e-4cde-fc6c-a213b51da0eb"
      },
      "outputs": [
        {
          "output_type": "stream",
          "name": "stdout",
          "text": [
            "Enter a number: 6\n",
            "12\n",
            "24\n",
            "48\n",
            "96\n",
            "192\n",
            "Stopping as value reached 100 or more\n"
          ]
        }
      ],
      "source": [
        "def value():\n",
        "\n",
        "    curr_value = int(input(\"Enter a number: \"))\n",
        "\n",
        "    while True:\n",
        "      curr_value *= 2\n",
        "\n",
        "      if curr_value < 100:\n",
        "\n",
        "         print(curr_value)\n",
        "\n",
        "      else:\n",
        "\n",
        "         print(curr_value)\n",
        "         print(\"Stopping as value reached 100 or more\")\n",
        "         break\n",
        "value()"
      ]
    }
  ]
}