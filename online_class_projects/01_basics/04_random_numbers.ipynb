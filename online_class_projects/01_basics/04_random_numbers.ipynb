{
  "nbformat": 4,
  "nbformat_minor": 0,
  "metadata": {
    "colab": {
      "provenance": []
    },
    "kernelspec": {
      "name": "python3",
      "display_name": "Python 3"
    },
    "language_info": {
      "name": "python"
    }
  },
  "cells": [
    {
      "cell_type": "code",
      "execution_count": 14,
      "metadata": {
        "colab": {
          "base_uri": "https://localhost:8080/"
        },
        "id": "c6MdoDcdpIui",
        "outputId": "6a8cbf6c-cb88-4603-b5e3-2a627f6a7a81"
      },
      "outputs": [
        {
          "output_type": "stream",
          "name": "stdout",
          "text": [
            "🎲 Here are 10 random numbers between 1 and 100: \n",
            "\n",
            "👉 57, 23, 74, 31, 21, 19, 79, 63, 91, 47 🚀\n"
          ]
        }
      ],
      "source": [
        "import random\n",
        "\n",
        "N_NUMBERS: int = 10\n",
        "MIN_VALUE: int = 1\n",
        "MAX_VALUE: int = 100\n",
        "\n",
        "def main():\n",
        "    \"\"\"Generate and print 10 random numbers between 1 and 100 \"\"\"\n",
        "\n",
        "    random_numbers = [random.randint(MIN_VALUE, MAX_VALUE) for _ in range(N_NUMBERS)]\n",
        "\n",
        "    print(\"🎲 Here are 10 random numbers between 1 and 100: \\n\")\n",
        "\n",
        "    print(\"👉 \" + \", \".join(map(str, random_numbers)) + \" 🚀\")\n",
        "\n",
        "main()"
      ]
    }
  ]
}