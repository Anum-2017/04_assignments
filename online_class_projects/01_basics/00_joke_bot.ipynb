{
  "nbformat": 4,
  "nbformat_minor": 0,
  "metadata": {
    "colab": {
      "provenance": []
    },
    "kernelspec": {
      "name": "python3",
      "display_name": "Python 3"
    },
    "language_info": {
      "name": "python"
    }
  },
  "cells": [
    {
      "cell_type": "code",
      "source": [
        "# basics / 00_joke_bot.md\n",
        "\n",
        "PROMPT: str = \"🤖 What do you want? \"\n",
        "SORRY: str = \"😔 Sorry, I only tell jokes!\"\n",
        "JOKE: str = \" \\n😂 Why do Java developers wear glasses? Because they don't C# 🤓.\"\n",
        "\n",
        "def joke_bot():\n",
        "    user_Input = input(PROMPT).strip().lower()\n",
        "\n",
        "    if user_Input == \"joke\":\n",
        "        print(\"\\n 🎉Here's a joke for you! 🤩\")\n",
        "        print(JOKE)\n",
        "    else:\n",
        "        print(SORRY)\n",
        "\n",
        "joke_bot()\n"
      ],
      "metadata": {
        "colab": {
          "base_uri": "https://localhost:8080/"
        },
        "id": "r3d7-4ulWDFK",
        "outputId": "8184e223-2059-4244-f6a7-1bdcad6f85c4"
      },
      "execution_count": 28,
      "outputs": [
        {
          "output_type": "stream",
          "name": "stdout",
          "text": [
            "🤖 What do you want? Joke\n",
            "\n",
            " 🎉Here's a joke for you! 🤩\n",
            " \n",
            "😂 Why do Java developers wear glasses? Because they don't C# 🤓.\n"
          ]
        }
      ]
    },
    {
      "cell_type": "code",
      "source": [
        "!pip install pyjokes"
      ],
      "metadata": {
        "colab": {
          "base_uri": "https://localhost:8080/"
        },
        "id": "VpnynsPnVePC",
        "outputId": "9b2ddef6-e285-4674-9dac-2025631daa68"
      },
      "execution_count": null,
      "outputs": [
        {
          "output_type": "stream",
          "name": "stdout",
          "text": [
            "Collecting pyjokes\n",
            "  Downloading pyjokes-0.8.3-py3-none-any.whl.metadata (3.4 kB)\n",
            "Downloading pyjokes-0.8.3-py3-none-any.whl (47 kB)\n",
            "\u001b[?25l   \u001b[90m━━━━━━━━━━━━━━━━━━━━━━━━━━━━━━━━━━━━━━━━\u001b[0m \u001b[32m0.0/47.6 kB\u001b[0m \u001b[31m?\u001b[0m eta \u001b[36m-:--:--\u001b[0m\r\u001b[2K   \u001b[90m━━━━━━━━━━━━━━━━━━━━━━━━━━━━━━━━━━━━━━━━\u001b[0m \u001b[32m47.6/47.6 kB\u001b[0m \u001b[31m2.3 MB/s\u001b[0m eta \u001b[36m0:00:00\u001b[0m\n",
            "\u001b[?25hInstalling collected packages: pyjokes\n",
            "Successfully installed pyjokes-0.8.3\n"
          ]
        }
      ]
    },
    {
      "cell_type": "code",
      "execution_count": 29,
      "metadata": {
        "colab": {
          "base_uri": "https://localhost:8080/"
        },
        "id": "NC0WdPPMO9BS",
        "outputId": "338e179a-b3f7-496f-a116-24e4b1f2c589"
      },
      "outputs": [
        {
          "output_type": "stream",
          "name": "stdout",
          "text": [
            "🤖 What do you want? Joke\n",
            "\n",
            "😂 Here's a joke for you:\n",
            "\n",
            "👉 Pirates go 'arg!', computer pirates go 'argv!'\n",
            "\n",
            "🔄 Another joke? (yes/no): yes\n",
            "\n",
            "🔄 Thinking ....\n",
            "\n",
            "🤖 What do you want? tell me a joke\n",
            "\n",
            "😂 Here's a joke for you:\n",
            "\n",
            "👉 If you play a Windows CD backwards, you'll hear satanic chanting ... worse still, if you play it forwards, it installs Windows.\n",
            "\n",
            "🔄 Another joke? (yes/no): no\n",
            "\n",
            "👋 Okay, have a great day!\n"
          ]
        }
      ],
      "source": [
        "# Extra Challenging Code\n",
        "# 🎭 Importing pyjokes for lighthearted humor\n",
        "# The bot will deliver random programming jokes to keep things fun\n",
        "\n",
        "import pyjokes\n",
        "import time  # ⏳ Importing time for natural delays\n",
        "\n",
        "\n",
        "PROMPT = \"🤖 What do you want? \"\n",
        "SORRY = \"❌ Sorry, I only tell jokes.\"\n",
        "\n",
        "def main():\n",
        "    while True:\n",
        "        user_input = input(PROMPT).strip().lower()\n",
        "\n",
        "        if user_input == \"joke\" or user_input == \"tell me a joke\":\n",
        "            print(\"\\n😂 Here's a joke for you:\")\n",
        "\n",
        "            time.sleep(3)  # ⏳ Delay for suspense\n",
        "\n",
        "            print(f\"\\n👉 {pyjokes.get_joke()}\")\n",
        "        else:\n",
        "            print(SORRY)\n",
        "\n",
        "        more_jokes = input(\"\\n🔄 Another joke? (yes/no): \").strip().lower()\n",
        "\n",
        "        if more_jokes == \"yes\":\n",
        "          print(\"\\n🔄 Thinking ....\\n\")\n",
        "          time.sleep(5)\n",
        "          continue\n",
        "        elif more_jokes == \"no\":\n",
        "            print(\"\\n👋 Okay, have a great day!\")\n",
        "            break\n",
        "        else:\n",
        "            print(\"\\n⚠️ Invalid input. Exiting. Have a great day!\")\n",
        "            break\n",
        "\n",
        "main()"
      ]
    }
  ]
}