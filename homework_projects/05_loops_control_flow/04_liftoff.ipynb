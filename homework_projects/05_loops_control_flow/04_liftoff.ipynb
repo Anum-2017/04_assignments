{
  "nbformat": 4,
  "nbformat_minor": 0,
  "metadata": {
    "colab": {
      "provenance": []
    },
    "kernelspec": {
      "name": "python3",
      "display_name": "Python 3"
    },
    "language_info": {
      "name": "python"
    }
  },
  "cells": [
    {
      "cell_type": "code",
      "execution_count": 4,
      "metadata": {
        "colab": {
          "base_uri": "https://localhost:8080/"
        },
        "id": "-S7SY6iUlkSI",
        "outputId": "0be7e9b5-070e-4f2d-a693-69373559ff0b"
      },
      "outputs": [
        {
          "output_type": "stream",
          "name": "stdout",
          "text": [
            "Starting countdown... \n",
            "\n",
            "10\n",
            "9\n",
            "8\n",
            "7\n",
            "6\n",
            "5\n",
            "4\n",
            "3\n",
            "2\n",
            "1\n",
            "0\n",
            "\n",
            "🚀 Liftoff! 🚀\n"
          ]
        }
      ],
      "source": [
        "import time\n",
        "\n",
        "def liftoff():\n",
        "    print(\"Starting countdown... \\n\")\n",
        "\n",
        "    # range(start, stop, step)\n",
        "    for i in range(10, -1, -1):\n",
        "        print(i)\n",
        "        time.sleep(1)\n",
        "\n",
        "    print(\"\\n🚀 Liftoff! 🚀\")\n",
        "\n",
        "liftoff()"
      ]
    }
  ]
}