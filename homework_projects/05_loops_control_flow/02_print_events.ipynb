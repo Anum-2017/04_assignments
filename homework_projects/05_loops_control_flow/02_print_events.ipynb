{
  "nbformat": 4,
  "nbformat_minor": 0,
  "metadata": {
    "colab": {
      "provenance": []
    },
    "kernelspec": {
      "name": "python3",
      "display_name": "Python 3"
    },
    "language_info": {
      "name": "python"
    }
  },
  "cells": [
    {
      "cell_type": "code",
      "execution_count": 10,
      "metadata": {
        "colab": {
          "base_uri": "https://localhost:8080/"
        },
        "id": "7N2PSPL3e2-l",
        "outputId": "81e6decc-7159-4915-d65c-7871688167d9"
      },
      "outputs": [
        {
          "output_type": "stream",
          "name": "stdout",
          "text": [
            "\n",
            " 🔢 Generating the first 20 even numbers... 🔢\n",
            "\n",
            "0 2 4 6 8 10 12 14 16 18 20 22 24 26 28 30 32 34 36 38 \n",
            "\n",
            "🎉 Even number generation complete! 🎉\n"
          ]
        }
      ],
      "source": [
        "# Using a for loop to print the first 20 even numbers\n",
        "\n",
        "import time\n",
        "\n",
        "def even_numbers():\n",
        "\n",
        "    print(\"\\n 🔢 Generating the first 20 even numbers... 🔢\\n\")\n",
        "    time.sleep(2)\n",
        "\n",
        "    for even in range(20):\n",
        "        value = even * 2\n",
        "        print(value, end=\" \", flush=True)\n",
        "\n",
        "    print(\"\\n\\n🎉 Even number generation complete! 🎉\")\n",
        "\n",
        "\n",
        "even_numbers()\n"
      ]
    }
  ]
}