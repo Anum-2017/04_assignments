{
  "nbformat": 4,
  "nbformat_minor": 0,
  "metadata": {
    "colab": {
      "provenance": []
    },
    "kernelspec": {
      "name": "python3",
      "display_name": "Python 3"
    },
    "language_info": {
      "name": "python"
    }
  },
  "cells": [
    {
      "cell_type": "code",
      "execution_count": null,
      "metadata": {
        "colab": {
          "base_uri": "https://localhost:8080/"
        },
        "id": "2FaErw5o-Jqy",
        "outputId": "5c9f9fbf-4179-482e-a9c1-64ef536bd4ee"
      },
      "outputs": [
        {
          "output_type": "stream",
          "name": "stdout",
          "text": [
            "\n",
            "🎯 I am thinking of a number between 0 and 99...\n",
            "💡 Type 'exit' anytime to quit.\n",
            "\n",
            "🔢 Enter your guess: 45\n",
            "⬆️ Your guess is too high\n",
            "\n",
            "🔢 Enter your guess: 30\n",
            "⬆️ Your guess is too high\n",
            "\n",
            "🔢 Enter your guess: 20\n",
            "⬇️ Your guess is too low\n",
            "\n",
            "🔢 Enter your guess: 25\n",
            "⬇️ Your guess is too low\n",
            "\n",
            "🔢 Enter your guess: 28\n",
            "⬆️ Your guess is too high\n",
            "\n",
            "🔢 Enter your guess: 26\n",
            "\n",
            " 🎉 Well done! You found the number 26 in just 6 attempts! Great job! 🎯\n"
          ]
        }
      ],
      "source": [
        "import random\n",
        "\n",
        "def guess_num():\n",
        "    secret_number = random.randint(0, 99)\n",
        "    attempts = 0\n",
        "\n",
        "    print(\"\\n🎯 I am thinking of a number between 0 and 99...\")\n",
        "    print(\"💡 Type 'exit' anytime to quit.\\n\")\n",
        "\n",
        "    while True:\n",
        "        guess = input(\"🔢 Enter your guess: \")\n",
        "\n",
        "        if guess.lower() == \"exit\":\n",
        "            print(\"🚪 Exiting the game. Thanks for playing!\")\n",
        "            break\n",
        "\n",
        "        if not guess.isdigit():\n",
        "            print(\"❌ Invalid input! Please enter a number.\")\n",
        "            continue\n",
        "\n",
        "        guess = int(guess)\n",
        "        attempts += 1\n",
        "\n",
        "        if guess < secret_number:\n",
        "            print(\"⬇️ Your guess is too low\\n\")\n",
        "        elif guess > secret_number:\n",
        "            print(\"⬆️ Your guess is too high\\n\")\n",
        "        else:\n",
        "            print(f\"\\n 🎉 Well done! You found the number {secret_number} in just {attempts} attempts! Great job! 🎯\")\n",
        "            break\n",
        "\n",
        "guess_num()"
      ]
    }
  ]
}