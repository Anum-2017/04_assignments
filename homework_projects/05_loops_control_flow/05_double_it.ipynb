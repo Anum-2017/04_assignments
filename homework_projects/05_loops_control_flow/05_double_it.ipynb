{
  "nbformat": 4,
  "nbformat_minor": 0,
  "metadata": {
    "colab": {
      "provenance": []
    },
    "kernelspec": {
      "name": "python3",
      "display_name": "Python 3"
    },
    "language_info": {
      "name": "python"
    }
  },
  "cells": [
    {
      "cell_type": "code",
      "execution_count": 11,
      "metadata": {
        "colab": {
          "base_uri": "https://localhost:8080/"
        },
        "id": "I1yQ6Escnrxz",
        "outputId": "fd0c3db5-420c-4a8d-fa4b-11993088563c"
      },
      "outputs": [
        {
          "output_type": "stream",
          "name": "stdout",
          "text": [
            "Enter a number to start doubling! 🚀: 6\n",
            "\n",
            "Let's start doubling! 💥\n",
            "\n",
            "12\n",
            "24\n",
            "48\n",
            "96\n",
            "192\n",
            "\n",
            "Stopping as value reached 100 or more. 🎯 Well done!\n"
          ]
        }
      ],
      "source": [
        "def value():\n",
        "\n",
        "    curr_value = int(input(\"Enter a number to start doubling! 🚀: \"))\n",
        "\n",
        "    print(\"\\nLet's start doubling! 💥\\n\")\n",
        "\n",
        "    while True:\n",
        "        curr_value = curr_value * 2\n",
        "\n",
        "        if curr_value < 100:\n",
        "            print(curr_value)\n",
        "        else:\n",
        "            print(curr_value)\n",
        "            print(\"\\nStopping as value reached 100 or more. 🎯 Well done!\")\n",
        "            break\n",
        "\n",
        "value()\n"
      ]
    }
  ]
}