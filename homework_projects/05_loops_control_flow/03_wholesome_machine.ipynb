{
  "nbformat": 4,
  "nbformat_minor": 0,
  "metadata": {
    "colab": {
      "provenance": []
    },
    "kernelspec": {
      "name": "python3",
      "display_name": "Python 3"
    },
    "language_info": {
      "name": "python"
    }
  },
  "cells": [
    {
      "cell_type": "code",
      "execution_count": 5,
      "metadata": {
        "colab": {
          "base_uri": "https://localhost:8080/"
        },
        "id": "Wn3nXWZZiTDm",
        "outputId": "9b38aa14-092f-4b6e-9d03-0f5e711441ed"
      },
      "outputs": [
        {
          "output_type": "stream",
          "name": "stdout",
          "text": [
            "\n",
            "\n",
            " ✨ Type this affirmation to unlock your full potential! ✨:\n",
            "\n",
            "💫 I believe in my ability to overcome challenges and grow stronger every day. 🌱\n",
            "\n",
            "✍️ Your turn: great\n",
            "\n",
            "🎯 Oops! Try again. 🎯\n",
            "\n",
            "✨ Manifest success—type this affirmation ✨:\n",
            "\n",
            "💫 I believe in my ability to overcome challenges and grow stronger every day. 🌱\n",
            "\n",
            "💬 Give it another shot: 💫 I believe in my ability to overcome challenges and grow stronger every day. 🌱\n",
            "\n",
            "💥Boom! That’s the spirit! Keep going! 💥\n"
          ]
        }
      ],
      "source": [
        "import time\n",
        "\n",
        "# Single affirmation\n",
        "affirmation = \"💫 I believe in my ability to overcome challenges and grow stronger every day. 🌱\"\n",
        "\n",
        "def wholesome_machine():\n",
        "    print(f\"\\n\\n ✨ Type this affirmation to unlock your full potential! ✨:\\n\\n{affirmation}\")\n",
        "\n",
        "    print()\n",
        "    user_feedback = input(\"✍️ Your turn: \")\n",
        "\n",
        "    while user_feedback != affirmation:\n",
        "        time.sleep(1)\n",
        "        print(\"\\n🎯 Oops! Try again. 🎯\")\n",
        "\n",
        "        time.sleep(2)\n",
        "        print(f\"\\n✨ Manifest success—type this affirmation ✨:\\n\\n{affirmation}\")\n",
        "\n",
        "        print()\n",
        "        user_feedback = input(\"💬 Give it another shot: \")\n",
        "\n",
        "        time.sleep(1)\n",
        "\n",
        "    print(\"\\n💥Boom! That’s the spirit! Keep going! 💥\")\n",
        "\n",
        "wholesome_machine()"
      ]
    }
  ]
}