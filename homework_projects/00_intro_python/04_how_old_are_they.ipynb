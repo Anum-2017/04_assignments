{
  "nbformat": 4,
  "nbformat_minor": 0,
  "metadata": {
    "colab": {
      "provenance": []
    },
    "kernelspec": {
      "name": "python3",
      "display_name": "Python 3"
    },
    "language_info": {
      "name": "python"
    }
  },
  "cells": [
    {
      "cell_type": "code",
      "execution_count": 3,
      "metadata": {
        "colab": {
          "base_uri": "https://localhost:8080/"
        },
        "id": "tw-ESPYFqwB7",
        "outputId": "d3825952-b4f3-467e-e20e-cb2ea569314c"
      },
      "outputs": [
        {
          "output_type": "stream",
          "name": "stdout",
          "text": [
            "🔢 This program calculates the ages of five friends based on a set of given conditions. 🧠\n",
            "\n",
            "🧩 Age Riddle: Can you determine everyone's age based on the given clues? Let's find out! 🕵️‍♂️\n",
            "\n",
            "👦 Anton is 21 years old.\n",
            "\n",
            "👧 Beth is 27 years old.\n",
            "\n",
            "🧑 Chen is 47 years old.\n",
            "\n",
            "🧔 Drew is 68 years old.\n",
            "\n",
            "👱 Ethan is 47 years old.\n",
            "\n"
          ]
        }
      ],
      "source": [
        "def main():\n",
        "    # Program Definition\n",
        "    print(\"🔢 This program calculates the ages of five friends based on a set of given conditions. 🧠\\n\")\n",
        "\n",
        "    # Question Definition\n",
        "    print(\"🧩 Age Riddle: Can you determine everyone's age based on the given clues? Let's find out! 🕵️‍♂️\\n\")\n",
        "\n",
        "    # Assigning ages based on the given conditions\n",
        "    anton = 21\n",
        "    beth = anton + 6\n",
        "    chen = beth + 20\n",
        "    drew = chen + anton\n",
        "    ethan = chen\n",
        "\n",
        "    # Printing the ages using f-strings\n",
        "    print(f\"👦 Anton is {anton} years old.\\n\")\n",
        "    print(f\"👧 Beth is {beth} years old.\\n\")\n",
        "    print(f\"🧑 Chen is {chen} years old.\\n\")\n",
        "    print(f\"🧔 Drew is {drew} years old.\\n\")\n",
        "    print(f\"👱 Ethan is {ethan} years old.\\n\")\n",
        "\n",
        "# Calling the main function if the script is executed\n",
        "if __name__ == '__main__':\n",
        "    main()"
      ]
    }
  ]
}