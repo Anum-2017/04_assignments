{
  "nbformat": 4,
  "nbformat_minor": 0,
  "metadata": {
    "colab": {
      "provenance": []
    },
    "kernelspec": {
      "name": "python3",
      "display_name": "Python 3"
    },
    "language_info": {
      "name": "python"
    }
  },
  "cells": [
    {
      "cell_type": "code",
      "execution_count": 13,
      "metadata": {
        "colab": {
          "base_uri": "https://localhost:8080/"
        },
        "id": "7U35OxPMs2kO",
        "outputId": "f5b5e2b9-c0eb-4aa5-a8bd-a7cda6c6f0a6"
      },
      "outputs": [
        {
          "output_type": "stream",
          "name": "stdout",
          "text": [
            "\n",
            "🎉🔺 Welcome to the Triangle Perimeter Calculator! 🔺🎉\n",
            "\n",
            "\n",
            "📏 Enter the length of side 1: 3\n",
            "\n",
            "📏 Enter the length of side 2: 4\n",
            "\n",
            "📏 Enter the length of side 3: 5.5\n",
            "\n",
            "✅ The perimeter of the triangle is: 12.50 🔺💡\n",
            "\n"
          ]
        }
      ],
      "source": [
        "def main():\n",
        "    \"\"\"\n",
        "    🔺 This program calculates the perimeter of a triangle\n",
        "    based on user-inputted side lengths.\n",
        "    \"\"\"\n",
        "\n",
        "    print(\"\\n🎉🔺 Welcome to the Triangle Perimeter Calculator! 🔺🎉\\n\")\n",
        "\n",
        "    # Prompt the user for the lengths of the three sides\n",
        "    side1 = float(input(\"\\n📏 Enter the length of side 1: \"))\n",
        "    side2 = float(input(\"\\n📏 Enter the length of side 2: \"))\n",
        "    side3 = float(input(\"\\n📏 Enter the length of side 3: \"))\n",
        "\n",
        "    # Calculate the perimeter\n",
        "    perimeter = side1 + side2 + side3\n",
        "\n",
        "    # Display the results\n",
        "    print(f\"\\n✅ The perimeter of the triangle is: {perimeter:.2f} 🔺💡\\n\")\n",
        "\n",
        "# Ensures the main() function runs only when the script is executed directly\n",
        "if __name__ == '__main__':\n",
        "    main()"
      ]
    }
  ]
}