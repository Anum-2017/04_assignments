{
  "nbformat": 4,
  "nbformat_minor": 0,
  "metadata": {
    "colab": {
      "provenance": []
    },
    "kernelspec": {
      "name": "python3",
      "display_name": "Python 3"
    },
    "language_info": {
      "name": "python"
    }
  },
  "cells": [
    {
      "cell_type": "code",
      "execution_count": null,
      "metadata": {
        "colab": {
          "base_uri": "https://localhost:8080/"
        },
        "id": "CtwbqfC_U86l",
        "outputId": "c8926f9c-b753-4fb9-db87-81693134e4bd"
      },
      "outputs": [
        {
          "output_type": "stream",
          "name": "stdout",
          "text": [
            "🎉 Welcome to the Addition Program! 😊🎯\n",
            "\n",
            "🔢 Enter first number: 5\n",
            "🔢 Enter second number: 8\n",
            "\n",
            "🎊 The total sum of 5 and 8 is: 13 🎉✅\n"
          ]
        }
      ],
      "source": [
        "def main():\n",
        "    \"\"\"\n",
        "    📌 This program takes two numbers as input from the user,\n",
        "    calculates their sum, and displays the result.\n",
        "    \"\"\"\n",
        "    print(\"🎉 Welcome to the Addition Program! 😊🎯\\n\")\n",
        "\n",
        "    # Prompting the user for first numbers and convert it to an integers\n",
        "    num1: str = input(\"🔢 Enter first number: \")\n",
        "    num1: int = int(num1)\n",
        "\n",
        "    # Prompt the user to enter the second number and convert it to an integer\n",
        "    num2: str = input(\"🔢 Enter second number: \")\n",
        "    num2: int = int(num2)\n",
        "\n",
        "    # Calculating the sum\n",
        "    total: int = num1 + num2\n",
        "\n",
        "    # Displaying the result with emojis\n",
        "    print(f\"\\n🎊 The total sum of {num1} and {num2} is: {total} 🎉✅\")\n",
        "\n",
        "    # Calling the function\n",
        "if __name__ == '__main__':\n",
        "    main()"
      ]
    }
  ]
}