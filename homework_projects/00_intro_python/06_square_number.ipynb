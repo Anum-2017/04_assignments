{
  "nbformat": 4,
  "nbformat_minor": 0,
  "metadata": {
    "colab": {
      "provenance": []
    },
    "kernelspec": {
      "name": "python3",
      "display_name": "Python 3"
    },
    "language_info": {
      "name": "python"
    }
  },
  "cells": [
    {
      "cell_type": "code",
      "execution_count": 10,
      "metadata": {
        "colab": {
          "base_uri": "https://localhost:8080/"
        },
        "id": "jvBoVv0v0hx6",
        "outputId": "530a1e58-3695-41a5-a003-9c2b0841cb51"
      },
      "outputs": [
        {
          "output_type": "stream",
          "name": "stdout",
          "text": [
            "\n",
            "🟡 Welcome to the Square Calculator! 🟡\n",
            "\n",
            "👉 Enter a number: 30\n",
            "\n",
            "🔷 The square of 30.0 is ➡️ 900.0\n",
            "\n"
          ]
        }
      ],
      "source": [
        "def main():\n",
        "    \"\"\"\n",
        "    🔢 This program prompts the user to enter a number and prints its square.\n",
        "    \"\"\"\n",
        "    print(\"\\n🟡 Welcome to the Square Calculator! 🟡\\n\")  # Greeting message\n",
        "\n",
        "    # Prompt the user to enter a number\n",
        "    number = float(input(\"👉 Enter a number: \"))\n",
        "\n",
        "    # Calculate and display the square\n",
        "    print(f\"\\n🔷 The square of {number} is ➡️ {number ** 2}\\n\")\n",
        "\n",
        "# Ensures the main() function runs only when the script is executed directly\n",
        "if __name__ == '__main__':\n",
        "    main()"
      ]
    }
  ]
}