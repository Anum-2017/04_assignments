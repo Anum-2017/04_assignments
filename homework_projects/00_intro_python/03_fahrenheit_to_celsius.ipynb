{
  "nbformat": 4,
  "nbformat_minor": 0,
  "metadata": {
    "colab": {
      "provenance": []
    },
    "kernelspec": {
      "name": "python3",
      "display_name": "Python 3"
    },
    "language_info": {
      "name": "python"
    }
  },
  "cells": [
    {
      "cell_type": "code",
      "execution_count": 12,
      "metadata": {
        "colab": {
          "base_uri": "https://localhost:8080/"
        },
        "id": "JqqVRzeBmSE8",
        "outputId": "efa50731-9b52-48e1-d0c9-2b6d5081d299"
      },
      "outputs": [
        {
          "output_type": "stream",
          "name": "stdout",
          "text": [
            "🌡️ Enter temperature in Fahrenheit: 25\n",
            "\n",
            "🔥 Temperature Conversion Result: 🔥\n",
            "\n",
            "  🌡️ 25.0F is equal to ❄️ -3.89C \n",
            "\n"
          ]
        }
      ],
      "source": [
        "def main():\n",
        "    # Prompt user for temperature in Fahrenheit\n",
        "    try:\n",
        "        degrees_fahrenheit = float(input(\"🌡️ Enter temperature in Fahrenheit: \"))\n",
        "\n",
        "        # Convert Fahrenheit to Celsius\n",
        "        degrees_celsius = (degrees_fahrenheit - 32) * 5.0 / 9.0\n",
        "\n",
        "        # Display the result with proper formatting\n",
        "        print(\"\\n🔥 Temperature Conversion Result: 🔥\\n\")\n",
        "        print(f\"  🌡️ {degrees_fahrenheit:.1f}F is equal to ❄️ {degrees_celsius:.2f}C \\n\")\n",
        "    except ValueError:\n",
        "        print(\"\\n⚠️ Invalid input! Please enter a numeric value. ⚠️\\n\")\n",
        "\n",
        "# This provided line is required at the end of\n",
        "# Python file to call the main() function.\n",
        "if __name__ == '__main__':\n",
        "    main()"
      ]
    }
  ]
}