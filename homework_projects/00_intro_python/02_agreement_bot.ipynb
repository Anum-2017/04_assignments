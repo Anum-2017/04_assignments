{
  "nbformat": 4,
  "nbformat_minor": 0,
  "metadata": {
    "colab": {
      "provenance": []
    },
    "kernelspec": {
      "name": "python3",
      "display_name": "Python 3"
    },
    "language_info": {
      "name": "python"
    }
  },
  "cells": [
    {
      "cell_type": "code",
      "execution_count": 2,
      "metadata": {
        "id": "vHdD6j_YRkAN",
        "colab": {
          "base_uri": "https://localhost:8080/"
        },
        "outputId": "850ac0f2-e8c9-40dc-a686-aa7eea6db0e7"
      },
      "outputs": [
        {
          "output_type": "stream",
          "name": "stdout",
          "text": [
            "\n",
            "🐶 What's your favorite animal? Cow\n",
            "\n",
            "\n",
            "🎉 My favorite animal is also Cow! 🐾 That's awesome! 🚀\n",
            "\n"
          ]
        }
      ],
      "source": [
        "def main():\n",
        "    \"\"\"\n",
        "    🐾 This program asks the user for their favorite animal\n",
        "    and responds enthusiastically with the same choice.\n",
        "    \"\"\"\n",
        "    # Ask the user for their favorite animal\n",
        "    favorite_animal: str = input(\"\\n🐶 What's your favorite animal? \").strip().capitalize()\n",
        "\n",
        "    # Print a blank line for spacing\n",
        "    print(\"\\n\")\n",
        "\n",
        "    # Respond with enthusiasm\n",
        "    print(f\"🎉 My favorite animal is also {favorite_animal}! 🐾\")\n",
        "\n",
        "# Ensures the main() function runs only when the script is executed directly\n",
        "if __name__ == '__main__':\n",
        "    main()"
      ]
    }
  ]
}