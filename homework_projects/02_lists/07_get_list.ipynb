{
  "nbformat": 4,
  "nbformat_minor": 0,
  "metadata": {
    "colab": {
      "provenance": []
    },
    "kernelspec": {
      "name": "python3",
      "display_name": "Python 3"
    },
    "language_info": {
      "name": "python"
    }
  },
  "cells": [
    {
      "cell_type": "code",
      "execution_count": 8,
      "metadata": {
        "colab": {
          "base_uri": "https://localhost:8080/"
        },
        "id": "X3iz43JQY48x",
        "outputId": "ae1e9c4e-0e73-4b86-c2f0-ff9dadbd11fe"
      },
      "outputs": [
        {
          "output_type": "stream",
          "name": "stdout",
          "text": [
            "🪐 Enter item (Press Enter⏎ to stop): Coffee\n",
            "\n",
            " ➕ Add More items (Press Enter⏎ to stop): Bread\n",
            "\n",
            " ➕ Add More items (Press Enter⏎ to stop): Eggs\n",
            "\n",
            " ➕ Add More items (Press Enter⏎ to stop): Jam\n",
            "\n",
            " ➕ Add More items (Press Enter⏎ to stop): Fruits\n",
            "\n",
            " ➕ Add More items (Press Enter⏎ to stop): Vegetables\n",
            "\n",
            " ➕ Add More items (Press Enter⏎ to stop): \n",
            "\n",
            "📜 Your list: ['Coffee', 'Bread', 'Eggs', 'Jam', 'Fruits', 'Vegetables'] 💫\n"
          ]
        }
      ],
      "source": [
        "def get_lst():\n",
        "\n",
        "    lst = []\n",
        "    val = input(\"🪐 Enter item (Press Enter⏎ to stop): \").strip()\n",
        "\n",
        "    while val:\n",
        "        lst.append(val)\n",
        "        val = input(\"\\n ➕ Add More items (Press Enter⏎ to stop): \").strip()\n",
        "\n",
        "    if lst:\n",
        "        print(f\"\\n📜 Your list: {lst} 💫\")\n",
        "    else:\n",
        "        print(\"\\n⚡ No items were added!\")\n",
        "\n",
        "get_lst()\n"
      ]
    }
  ]
}