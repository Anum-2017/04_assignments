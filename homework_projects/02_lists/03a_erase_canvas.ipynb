{
 "cells": [
  {
   "cell_type": "code",
   "execution_count": 3,
   "metadata": {},
   "outputs": [
    {
     "data": {
      "image/png": "[encoded data removed]",
      "text/plain": [
       "<Figure size 600x600 with 1 Axes>"
      ]
     },
     "metadata": {},
     "output_type": "display_data"
    },
    {
     "name": "stdout",
     "output_type": "stream",
     "text": [
      "\n",
      "🌟 Enter a number (1-100) to erase or 'x' to exit: \n",
      "\n",
      "\n",
      "👋 Goodbye!\n"
     ]
    }
   ],
   "source": [
    "import numpy as np\n",
    "import matplotlib.pyplot as plt\n",
    "from matplotlib.patches import Rectangle\n",
    "from IPython.display import display, clear_output\n",
    "import random\n",
    "\n",
    "rows, cols = 10, 10\n",
    "cell_size = 1  \n",
    "all_positions = [(i, j) for i in range(rows) for j in range(cols)]\n",
    "erased_positions = set()\n",
    "remaining_positions = set(all_positions)\n",
    "\n",
    "def draw_canvas():\n",
    "    \"\"\"Draws the grid with erased positions.\"\"\"\n",
    "    clear_output(wait=True)\n",
    "    fig, ax = plt.subplots(figsize=(6, 6), dpi=100)  # Adjusted figure size\n",
    "    ax.set_xlim(0, cols)\n",
    "    ax.set_ylim(0, rows)\n",
    "    ax.set_xticks([])\n",
    "    ax.set_yticks([])\n",
    "    ax.set_frame_on(False)\n",
    "    ax.set_aspect('equal')\n",
    "\n",
    "    for i, j in all_positions:\n",
    "        color = 'white' if (i, j) in erased_positions else 'blue'\n",
    "        ax.add_patch(Rectangle((j, rows - i - 1), cell_size, cell_size, facecolor=color, edgecolor='black'))\n",
    "\n",
    "    display(fig)\n",
    "    plt.close(fig)\n",
    "\n",
    "draw_canvas()\n",
    "\n",
    "while remaining_positions:\n",
    "    print(\"\\n🌟 Enter a number (1-100) to erase or 'x' to exit: \")\n",
    "    print(\"\\n\")\n",
    "    pos = input().strip()\n",
    "\n",
    "    if pos.lower() == 'x': \n",
    "        print(\"👋 Goodbye!\")\n",
    "        break\n",
    "    if not pos.isdigit(): \n",
    "        print(\"❌ Invalid Input. Please enter a number.\", end=\"\")  \n",
    "        continue\n",
    "\n",
    "    num = int(pos)\n",
    "    if num < 1 or num > len(remaining_positions): \n",
    "        print(\"❌ Out of Range. Enter a number between 1 and\", len(remaining_positions), \"!\", end=\"\") \n",
    "        continue\n",
    "\n",
    "    for _ in range(num):\n",
    "        if not remaining_positions: \n",
    "            break\n",
    "        r, c = random.choice(list(remaining_positions))\n",
    "        remaining_positions.remove((r, c))\n",
    "        erased_positions.add((r, c))\n",
    "\n",
    "    draw_canvas()"
   ]
  }
 ],
 "metadata": {
  "kernelspec": {
   "display_name": "Python 3",
   "language": "python",
   "name": "python3"
  },
  "language_info": {
   "codemirror_mode": {
    "name": "ipython",
    "version": 3
   },
   "file_extension": ".py",
   "mimetype": "text/x-python",
   "name": "python",
   "nbconvert_exporter": "python",
   "pygments_lexer": "ipython3",
   "version": "3.13.2"
  }
 },
 "nbformat": 4,
 "nbformat_minor": 2
}
