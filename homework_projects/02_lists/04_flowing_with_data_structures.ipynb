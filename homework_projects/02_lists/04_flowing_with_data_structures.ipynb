{
  "nbformat": 4,
  "nbformat_minor": 0,
  "metadata": {
    "colab": {
      "provenance": []
    },
    "kernelspec": {
      "name": "python3",
      "display_name": "Python 3"
    },
    "language_info": {
      "name": "python"
    }
  },
  "cells": [
    {
      "cell_type": "code",
      "execution_count": 2,
      "metadata": {
        "colab": {
          "base_uri": "https://localhost:8080/"
        },
        "id": "VeJIaDhWyNjT",
        "outputId": "baddec43-7280-4534-93d6-829488994e90"
      },
      "outputs": [
        {
          "output_type": "stream",
          "name": "stdout",
          "text": [
            "💬 Enter a message: python\n",
            "\n",
            "📝 List before: []\n",
            "\n",
            "🎯 List after: ['python', 'python', 'python']\n"
          ]
        }
      ],
      "source": [
        "def flowing_data(my_list, data):\n",
        "    for i in range(3):\n",
        "        my_list.append(data)\n",
        "\n",
        "def main():\n",
        "    user_input = input(\"💬 Enter a message: \")\n",
        "\n",
        "    my_list = []\n",
        "\n",
        "    print(\"\\n📝 List before:\", my_list)\n",
        "\n",
        "    flowing_data(my_list, user_input)\n",
        "\n",
        "    print(\"\\n🎯 List after:\", my_list)\n",
        "\n",
        "main()"
      ]
    }
  ]
}