{
  "nbformat": 4,
  "nbformat_minor": 0,
  "metadata": {
    "colab": {
      "provenance": []
    },
    "kernelspec": {
      "name": "python3",
      "display_name": "Python 3"
    },
    "language_info": {
      "name": "python"
    }
  },
  "cells": [
    {
      "cell_type": "code",
      "execution_count": 3,
      "metadata": {
        "colab": {
          "base_uri": "https://localhost:8080/"
        },
        "id": "SLlQRJ6PCBz_",
        "outputId": "a5d67650-8611-4144-ffd3-bc1cea4044c1"
      },
      "outputs": [
        {
          "output_type": "stream",
          "name": "stdout",
          "text": [
            "\n",
            "🌈✨ Welcome to the Ultimate List Maker! ✨🌈\n",
            "\n",
            "🔹 Add an item (or press Enter to finish): Wake up early\n",
            "🔹 Add an item (or press Enter to finish): Exercise \n",
            "🔹 Add an item (or press Enter to finish): Work on project\n",
            "🔹 Add an item (or press Enter to finish): Read a book\n",
            "🔹 Add an item (or press Enter to finish): \n",
            "\n",
            "📋 Your final list: 📌 ['Wake up early', 'Exercise ', 'Work on project', 'Read a book']\n",
            "\n",
            "\n",
            "💡 Last element: 🎯 Read a book\n",
            "\n"
          ]
        }
      ],
      "source": [
        "def print_last_item(lst):\n",
        "\n",
        "    print(f\"\\n💡 Last element: 🎯 {lst[-1]}\\n\")\n",
        "\n",
        "def get_user_list():\n",
        "\n",
        "    lst = []\n",
        "\n",
        "    user_lst = input(\"🔹 Add an item (or press Enter to finish): \")\n",
        "\n",
        "    while user_lst != \"\":\n",
        "\n",
        "        lst.append(user_lst)\n",
        "\n",
        "        user_lst = input(\"🔹 Add an item (or press Enter to finish): \")\n",
        "\n",
        "    return lst\n",
        "\n",
        "def main():\n",
        "\n",
        "    print(\"\\n🌈✨ Welcome to the Ultimate List Maker! ✨🌈\\n\")\n",
        "\n",
        "    lst = get_user_list()\n",
        "\n",
        "    if lst:\n",
        "\n",
        "        print(f\"\\n📋 Your final list: 📌 {lst}\\n\")\n",
        "\n",
        "        print_last_item(lst)\n",
        "\n",
        "    else:\n",
        "\n",
        "        print(\"⚠️ [WARNING] No items entered. Please try again!\")\n",
        "\n",
        "main()"
      ]
    }
  ]
}