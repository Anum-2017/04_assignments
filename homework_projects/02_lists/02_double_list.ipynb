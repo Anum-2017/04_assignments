{
  "nbformat": 4,
  "nbformat_minor": 0,
  "metadata": {
    "colab": {
      "provenance": []
    },
    "kernelspec": {
      "name": "python3",
      "display_name": "Python 3"
    },
    "language_info": {
      "name": "python"
    }
  },
  "cells": [
    {
      "cell_type": "code",
      "execution_count": 6,
      "metadata": {
        "colab": {
          "base_uri": "https://localhost:8080/"
        },
        "id": "I2xr1gvNt3ax",
        "outputId": "5b7916d2-7bb6-467a-dcaa-8be056c46755"
      },
      "outputs": [
        {
          "output_type": "stream",
          "name": "stdout",
          "text": [
            "🚀 Welcome to the Number Doubler Program! ✖️2️⃣ \n",
            "\n",
            "📢 This program takes a list of numbers and doubles each one.\n",
            "\n",
            "📝 Original list of numbers: [1, 2, 3, 4, 5] \n",
            "\n",
            "🔢 The doubled numbers are: [2, 4, 6, 8, 10] 🎉\n"
          ]
        }
      ],
      "source": [
        "def double_numbers(numbers: list[int]) -> list[int]:\n",
        "\n",
        "    return [num * 2 for num in numbers]\n",
        "\n",
        "def main():\n",
        "    print(\"🚀 Welcome to the Number Doubler Program! ✖️2️⃣ \\n\")\n",
        "    print(\"📢 This program takes a list of numbers and doubles each one.\\n\")\n",
        "\n",
        "    numbers: list[int] = [1, 2, 3, 4, 5]\n",
        "    print(f\"📝 Original list of numbers: {numbers} \\n\")\n",
        "\n",
        "    doubled_numbers: list[int] = double_numbers(numbers)\n",
        "\n",
        "    print(f\"🔢 The doubled numbers are: {doubled_numbers} 🎉\")\n",
        "\n",
        "main()"
      ]
    }
  ]
}