{
 "cells": [
  {
   "cell_type": "code",
   "execution_count": 14,
   "metadata": {},
   "outputs": [
    {
     "name": "stdout",
     "output_type": "stream",
     "text": [
      "Requirement already satisfied: pygame in c:\\users\\anumk\\appdata\\local\\programs\\python\\python313\\lib\\site-packages (2.6.1)\n",
      "Note: you may need to restart the kernel to use updated packages.\n"
     ]
    }
   ],
   "source": [
    "%pip install pygame"
   ]
  },
  {
   "cell_type": "code",
   "execution_count": 6,
   "metadata": {},
   "outputs": [],
   "source": [
    "import tkinter as tk\n",
    "\n",
    "class EraserCanvas(tk.Tk):\n",
    "    def __init__(self):\n",
    "        super().__init__()\n",
    "\n",
    "        self.title(\"Eraser Tool on Canvas\")\n",
    "        self.geometry(\"500x500\")\n",
    "\n",
    "        # Set up canvas\n",
    "        self.canvas = tk.Canvas(self, width=500, height=500)\n",
    "        self.canvas.pack()\n",
    "\n",
    "        # Grid dimensions\n",
    "        self.cell_size = 20\n",
    "        self.rows = 25\n",
    "        self.cols = 25\n",
    "        self.grid = []\n",
    "\n",
    "        # Draw the initial grid of blue cells with black borders\n",
    "        self.draw_grid()\n",
    "\n",
    "        # Eraser properties\n",
    "        self.eraser_size = 1  # size of the eraser (in cells)\n",
    "        self.eraser_rect = None\n",
    "        self.create_eraser()\n",
    "\n",
    "        # Bind events for dragging the eraser\n",
    "        self.canvas.bind(\"<B1-Motion>\", self.on_drag)\n",
    "\n",
    "    def draw_grid(self):\n",
    "        \"\"\"Draw blue cells on the canvas to form a grid.\"\"\"\n",
    "        for row in range(self.rows):\n",
    "            row_cells = []\n",
    "            for col in range(self.cols):\n",
    "                x1 = col * self.cell_size\n",
    "                y1 = row * self.cell_size\n",
    "                x2 = x1 + self.cell_size\n",
    "                y2 = y1 + self.cell_size\n",
    "                # Draw rectangle for each cell with a blue fill and black outline\n",
    "                rect = self.canvas.create_rectangle(x1, y1, x2, y2, fill=\"blue\", outline=\"black\")\n",
    "                row_cells.append(rect)\n",
    "            self.grid.append(row_cells)\n",
    "\n",
    "    def create_eraser(self):\n",
    "        \"\"\"Create a draggable eraser rectangle.\"\"\"\n",
    "        self.eraser_rect = self.canvas.create_rectangle(0, 0, self.eraser_size * self.cell_size, self.eraser_size * self.cell_size, outline=\"red\", width=2)\n",
    "\n",
    "    def on_drag(self, event):\n",
    "        \"\"\"Handle the eraser dragging and erase one cell at a time.\"\"\"\n",
    "        # Get the current position of the mouse\n",
    "        mouse_x = event.x\n",
    "        mouse_y = event.y\n",
    "\n",
    "        # Calculate the top-left corner of the eraser's rectangle\n",
    "        eraser_x1 = (mouse_x // self.cell_size) * self.cell_size\n",
    "        eraser_y1 = (mouse_y // self.cell_size) * self.cell_size\n",
    "        eraser_x2 = eraser_x1 + self.cell_size\n",
    "        eraser_y2 = eraser_y1 + self.cell_size\n",
    "\n",
    "        # Swap x1, y1 with x2, y2 for the eraser rectangle\n",
    "        self.canvas.coords(self.eraser_rect, eraser_x2, eraser_y2, eraser_x1, eraser_y1)\n",
    "\n",
    "        # Erase just one cell inside the eraser's current position\n",
    "        row = mouse_y // self.cell_size\n",
    "        col = mouse_x // self.cell_size\n",
    "        # Check if the cell is within the grid bounds\n",
    "        if 0 <= row < self.rows and 0 <= col < self.cols:\n",
    "            self.canvas.itemconfig(self.grid[row][col], fill=\"white\", outline=\"black\")\n",
    "\n",
    "if __name__ == \"__main__\":\n",
    "    app = EraserCanvas()\n",
    "    app.mainloop()"
   ]
  }
 ],
 "metadata": {
  "kernelspec": {
   "display_name": "Python 3",
   "language": "python",
   "name": "python3"
  },
  "language_info": {
   "codemirror_mode": {
    "name": "ipython",
    "version": 3
   },
   "file_extension": ".py",
   "mimetype": "text/x-python",
   "name": "python",
   "nbconvert_exporter": "python",
   "pygments_lexer": "ipython3",
   "version": "3.13.2"
  }
 },
 "nbformat": 4,
 "nbformat_minor": 2
}
