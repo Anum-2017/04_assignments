{
 "cells": [
  {
   "cell_type": "code",
   "execution_count": 2,
   "metadata": {},
   "outputs": [
    {
     "name": "stdout",
     "output_type": "stream",
     "text": [
      "Requirement already satisfied: pygame in c:\\users\\anumk\\appdata\\local\\programs\\python\\python313\\lib\\site-packages (2.6.1)\n",
      "Note: you may need to restart the kernel to use updated packages.\n"
     ]
    }
   ],
   "source": [
    "%pip install pygame"
   ]
  },
  {
   "cell_type": "code",
   "execution_count": 7,
   "metadata": {},
   "outputs": [],
   "source": [
    "import tkinter as tk\n",
    "import random\n",
    "\n",
    "class EraserCanvas(tk.Tk):\n",
    "    def __init__(self):\n",
    "        super().__init__()\n",
    "\n",
    "        self.title(\"Eraser Tool on Canvas\")\n",
    "        self.geometry(\"500x500\")\n",
    "\n",
    "        # Set up canvas\n",
    "        self.canvas = tk.Canvas(self, width=500, height=500)\n",
    "        self.canvas.pack()\n",
    "\n",
    "        # Grid dimensions\n",
    "        self.cell_size = 20\n",
    "        self.rows = 25\n",
    "        self.cols = 25\n",
    "        self.grid = []\n",
    "        self.colors = [\"blue\", \"green\", \"purple\", \"Hot pink\", \"Gold\"]\n",
    "\n",
    "        # Draw the initial grid of random colored cells\n",
    "        self.draw_grid()\n",
    "\n",
    "        # Eraser properties\n",
    "        self.eraser_size = 1  # size of the eraser (in cells)\n",
    "        self.eraser_rect = None\n",
    "        self.create_eraser()\n",
    "\n",
    "        # Bind events for dragging the eraser\n",
    "        self.canvas.bind(\"<B1-Motion>\", self.on_drag)\n",
    "        self.bind(\"+\", self.increase_eraser)\n",
    "        self.bind(\"-\", self.decrease_eraser)\n",
    "\n",
    "    def draw_grid(self):\n",
    "        \"\"\"Draw cells with random colors on the canvas to form a grid.\"\"\"\n",
    "        for row in range(self.rows):\n",
    "            row_cells = []\n",
    "            for col in range(self.cols):\n",
    "                x1 = col * self.cell_size\n",
    "                y1 = row * self.cell_size\n",
    "                x2 = x1 + self.cell_size\n",
    "                y2 = y1 + self.cell_size\n",
    "                color = random.choice(self.colors)\n",
    "                rect = self.canvas.create_rectangle(x1, y1, x2, y2, fill=color, outline=\"black\")\n",
    "                row_cells.append(rect)\n",
    "            self.grid.append(row_cells)\n",
    "\n",
    "    def create_eraser(self):\n",
    "        \"\"\"Create a draggable eraser rectangle.\"\"\"\n",
    "        self.eraser_rect = self.canvas.create_rectangle(0, 0, self.eraser_size * self.cell_size, self.eraser_size * self.cell_size, outline=\"red\", width=2)\n",
    "\n",
    "    def on_drag(self, event):\n",
    "        \"\"\"Handle the eraser dragging and erase multiple cells based on eraser size.\"\"\"\n",
    "        mouse_x = event.x\n",
    "        mouse_y = event.y\n",
    "        \n",
    "        row_start = max((mouse_y // self.cell_size) - (self.eraser_size // 2), 0)\n",
    "        col_start = max((mouse_x // self.cell_size) - (self.eraser_size // 2), 0)\n",
    "        row_end = min(row_start + self.eraser_size, self.rows)\n",
    "        col_end = min(col_start + self.eraser_size, self.cols)\n",
    "        \n",
    "        for row in range(row_start, row_end):\n",
    "            for col in range(col_start, col_end):\n",
    "                self.canvas.itemconfig(self.grid[row][col], fill=\"white\", outline=\"black\")\n",
    "        \n",
    "        self.canvas.coords(\n",
    "            self.eraser_rect,\n",
    "            col_start * self.cell_size, row_start * self.cell_size,\n",
    "            col_end * self.cell_size, row_end * self.cell_size\n",
    "        )\n",
    "\n",
    "    def increase_eraser(self, event):\n",
    "        \"\"\"Increase eraser size, max 5.\"\"\"\n",
    "        if self.eraser_size < 5:\n",
    "            self.eraser_size += 1\n",
    "            self.create_eraser()\n",
    "\n",
    "    def decrease_eraser(self, event):\n",
    "        \"\"\"Decrease eraser size, min 1.\"\"\"\n",
    "        if self.eraser_size > 1:\n",
    "            self.eraser_size -= 1\n",
    "            self.create_eraser()\n",
    "\n",
    "if __name__ == \"__main__\":\n",
    "    app = EraserCanvas()\n",
    "    app.mainloop()"
   ]
  }
 ],
 "metadata": {
  "kernelspec": {
   "display_name": "Python 3",
   "language": "python",
   "name": "python3"
  },
  "language_info": {
   "codemirror_mode": {
    "name": "ipython",
    "version": 3
   },
   "file_extension": ".py",
   "mimetype": "text/x-python",
   "name": "python",
   "nbconvert_exporter": "python",
   "pygments_lexer": "ipython3",
   "version": "3.13.2"
  }
 },
 "nbformat": 4,
 "nbformat_minor": 2
}
