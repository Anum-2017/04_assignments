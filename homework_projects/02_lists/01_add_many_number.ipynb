{
  "nbformat": 4,
  "nbformat_minor": 0,
  "metadata": {
    "colab": {
      "provenance": []
    },
    "kernelspec": {
      "name": "python3",
      "display_name": "Python 3"
    },
    "language_info": {
      "name": "python"
    }
  },
  "cells": [
    {
      "cell_type": "code",
      "execution_count": 14,
      "metadata": {
        "id": "G_oNSwxT5eWu",
        "colab": {
          "base_uri": "https://localhost:8080/"
        },
        "outputId": "32a89ca3-4834-4137-f133-cf94d19198ca"
      },
      "outputs": [
        {
          "output_type": "stream",
          "name": "stdout",
          "text": [
            "🚀 Welcome to the Number Adder Program! 🔢➕ \n",
            "\n",
            "📢 This program takes a list of numbers and calculates their sum.\n",
            "\n",
            "📝 List of numbers: [1, 2, 3, 4, 5] \n",
            "\n",
            "🧮 The sum of the numbers is: 15 🎉\n"
          ]
        }
      ],
      "source": [
        "# 🌟 Welcome to the Number Adder Program! 🔢➕🎉\n",
        "# 📝 This program takes a list of numbers and returns their sum. Let's get started! 🚀\n",
        "\n",
        "def add_many_numbers(numbers: list[int]) -> int:\n",
        "    \"\"\"\n",
        "    🧮 Takes in a list of numbers and returns the sum of those numbers. 🔢➕\n",
        "    \"\"\"\n",
        "    return sum(numbers)\n",
        "\n",
        "def main():\n",
        "    print(\"🚀 Welcome to the Number Adder Program! 🔢➕ \\n\")\n",
        "    print(\"📢 This program takes a list of numbers and calculates their sum.\\n\")\n",
        "\n",
        "    numbers: list[int] = [1, 2, 3, 4, 5]\n",
        "    print(f\"📝 List of numbers: {numbers} \\n\")\n",
        "\n",
        "    sum_of_numbers: int = add_many_numbers(numbers)\n",
        "\n",
        "    print(f\"🧮 The sum of the numbers is: {sum_of_numbers} 🎉\")\n",
        "\n",
        "if __name__ == '__main__':\n",
        "    main()\n"
      ]
    }
  ]
}