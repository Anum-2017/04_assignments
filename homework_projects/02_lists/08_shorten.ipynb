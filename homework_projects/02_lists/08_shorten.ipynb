{
  "nbformat": 4,
  "nbformat_minor": 0,
  "metadata": {
    "colab": {
      "provenance": []
    },
    "kernelspec": {
      "name": "python3",
      "display_name": "Python 3"
    },
    "language_info": {
      "name": "python"
    }
  },
  "cells": [
    {
      "cell_type": "code",
      "execution_count": 3,
      "metadata": {
        "colab": {
          "base_uri": "https://localhost:8080/"
        },
        "id": "TtCUu86Khply",
        "outputId": "4ca37b5e-5a58-4bf2-9869-40f3078b17bf"
      },
      "outputs": [
        {
          "output_type": "stream",
          "name": "stdout",
          "text": [
            "\n",
            "✏️ Enter list items (Press Enter to stop):\n",
            "\n",
            "➤ Enter an item: 🍎 Apple\n",
            "\n",
            "➤ Enter an item: 🍌 Banana\n",
            "\n",
            "➤ Enter an item: 🍇 Grapes\n",
            "\n",
            "➤ Enter an item: 🥭 Mango  \n",
            "\n",
            "➤ Enter an item: 🍊 Orange \n",
            "\n",
            "➤ Enter an item: 🍒 Cherry\n",
            "\n",
            "➤ Enter an item: \n",
            "\n",
            "⚜️ List Created Successfully!⚜️\n",
            "\n",
            "\n",
            "🛒Full List Before Shortening:['🍎 Apple', '🍌 Banana', '🍇 Grapes', '🥭 Mango  ', '🍊 Orange ', '🍒 Cherry']🛒 \n",
            "\n",
            "🚫 Last element 🍒 Cherry removed\n",
            "🚫 Last element 🍊 Orange  removed\n",
            "🚫 Last element 🥭 Mango   removed\n",
            "\n",
            "🎇 Final List After Shortening:['🍎 Apple', '🍌 Banana', '🍇 Grapes'] 🎇 \n",
            "\n"
          ]
        }
      ],
      "source": [
        "Max_Length = 3\n",
        "\n",
        "def shorten(lst):\n",
        "    print(f\"\\n🛒Full List Before Shortening:{lst}🛒 \\n\")\n",
        "\n",
        "    while len(lst) > Max_Length:\n",
        "        last_element = lst.pop()\n",
        "        print(f\"🚫 Last element {last_element} removed\")\n",
        "\n",
        "    print(f\"\\n🎇 Final List After Shortening:{lst} 🎇 \\n\")\n",
        "\n",
        "def get_lst():\n",
        "   lst = []\n",
        "   print(\"\\n✏️ Enter list items (Press Enter to stop):\\n\")\n",
        "\n",
        "   user_input = input(\"➤ Enter an item: \")\n",
        "\n",
        "   while user_input != \"\" :\n",
        "       lst.append(user_input)\n",
        "       user_input = input(\"\\n➤ Enter an item: \")\n",
        "\n",
        "   print(\"\\n⚜️ List Created Successfully!⚜️\\n\")\n",
        "   return lst\n",
        "\n",
        "def main():\n",
        "    lst = get_lst()\n",
        "    shorten(lst)\n",
        "\n",
        "main()"
      ]
    }
  ]
}