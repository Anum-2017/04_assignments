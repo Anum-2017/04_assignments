{
  "nbformat": 4,
  "nbformat_minor": 0,
  "metadata": {
    "colab": {
      "provenance": []
    },
    "kernelspec": {
      "name": "python3",
      "display_name": "Python 3"
    },
    "language_info": {
      "name": "python"
    }
  },
  "cells": [
    {
      "cell_type": "code",
      "execution_count": 3,
      "metadata": {
        "colab": {
          "base_uri": "https://localhost:8080/"
        },
        "id": "718EXJ4C4uWw",
        "outputId": "16a0cdb3-a89d-4569-a15f-68b7a44a55d6"
      },
      "outputs": [
        {
          "output_type": "stream",
          "name": "stdout",
          "text": [
            "🔹 die1 in main() starts as: 10\n",
            "\n",
            "🎲 Dice Roll: Die 1: 6, 🎲 Die 2: 4 ➡️ Total: 10\n",
            "🎲 Dice Roll: Die 1: 2, 🎲 Die 2: 3 ➡️ Total: 5\n",
            "🎲 Dice Roll: Die 1: 2, 🎲 Die 2: 6 ➡️ Total: 8\n",
            "\n",
            "🔹 die1 in main() is still: 10\n"
          ]
        }
      ],
      "source": [
        "\"\"\"\n",
        "Program: 🎲 Dice Simulator 🎲\n",
        "----------------------------\n",
        "Simulate rolling two dice, three times. Prints\n",
        "the results of each die roll. This program is used\n",
        "to show how variable scope works.\n",
        "\"\"\"\n",
        "\n",
        "# Import the random library to simulate rolling dice 🎲\n",
        "import random\n",
        "\n",
        "# Number of sides on each die 🎲\n",
        "NUM_SIDES = 6\n",
        "\n",
        "def roll_dice():\n",
        "    \"\"\"\n",
        "    Simulates rolling two dice and prints their total 🎲 + 🎲 = 🎯\n",
        "    \"\"\"\n",
        "    die1 = random.randint(1, NUM_SIDES)\n",
        "    die2 = random.randint(1, NUM_SIDES)\n",
        "    total = die1 + die2\n",
        "    print(f\"🎲 Dice Roll: Die 1: {die1}, 🎲 Die 2: {die2} ➡️ Total: {total}\")\n",
        "\n",
        "def main():\n",
        "    die1 = 10  # Local variable in main()\n",
        "    print(f\"🔹 die1 in main() starts as: {die1}\\n\")\n",
        "\n",
        "    # Simulate rolling dice three times\n",
        "    for _ in range(3):\n",
        "        roll_dice()\n",
        "\n",
        "    print(f\"\\n🔹 die1 in main() is still: {die1}\")\n",
        "\n",
        "# Required line to execute main function when script runs\n",
        "if __name__ == '__main__':\n",
        "    main()"
      ]
    }
  ]
}