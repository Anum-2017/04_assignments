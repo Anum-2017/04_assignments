{
  "nbformat": 4,
  "nbformat_minor": 0,
  "metadata": {
    "colab": {
      "provenance": []
    },
    "kernelspec": {
      "name": "python3",
      "display_name": "Python 3"
    },
    "language_info": {
      "name": "python"
    }
  },
  "cells": [
    {
      "cell_type": "code",
      "execution_count": 9,
      "metadata": {
        "colab": {
          "base_uri": "https://localhost:8080/"
        },
        "id": "SPnm0ZMIpkVc",
        "outputId": "80e4c925-e69a-4999-de3b-1bf37b4a074a"
      },
      "outputs": [
        {
          "output_type": "stream",
          "name": "stdout",
          "text": [
            "🎲 Welcome to the Dice Rolling Simulator! 🎲\n",
            "\n",
            "🎲 First dice: 3\n",
            "🎲 Second dice: 2\n",
            "✨ Total: 5\n",
            "\n"
          ]
        }
      ],
      "source": [
        "\"\"\"\n",
        "Simulate rolling two dice, printing each roll's results and the total.\n",
        "\"\"\"\n",
        "\n",
        "import random\n",
        "\n",
        "NUM_SIDES = 6\n",
        "\n",
        "def roll_dice():\n",
        "    \"\"\"Simulates rolling two dice and returns their values and total.\"\"\"\n",
        "    dice1 = random.randint(1, NUM_SIDES)\n",
        "    dice2 = random.randint(1, NUM_SIDES)\n",
        "    return dice1, dice2, dice1 + dice2\n",
        "\n",
        "def main():\n",
        "    print(\"🎲 Welcome to the Dice Rolling Simulator! 🎲\\n\")\n",
        "\n",
        "    # Call roll_dice() to get the results\n",
        "    dice1, dice2, total = roll_dice()\n",
        "\n",
        "    print(f\"🎲 First dice: {dice1}\")\n",
        "    print(f\"🎲 Second dice: {dice2}\")\n",
        "    print(f\"✨ Total: {total}\\n\")\n",
        "\n",
        "if __name__ == '__main__':\n",
        "    main()"
      ]
    }
  ]
}