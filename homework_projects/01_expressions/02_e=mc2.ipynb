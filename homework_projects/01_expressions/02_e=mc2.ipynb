{
  "nbformat": 4,
  "nbformat_minor": 0,
  "metadata": {
    "colab": {
      "provenance": []
    },
    "kernelspec": {
      "name": "python3",
      "display_name": "Python 3"
    },
    "language_info": {
      "name": "python"
    }
  },
  "cells": [
    {
      "cell_type": "code",
      "execution_count": 8,
      "metadata": {
        "colab": {
          "base_uri": "https://localhost:8080/"
        },
        "id": "Tl1DuiZ19hPu",
        "outputId": "f3d216fa-b5a6-4a0a-d09f-5a8339fc9db4"
      },
      "outputs": [
        {
          "output_type": "stream",
          "name": "stdout",
          "text": [
            "Enter mass in kilograms: 45\n",
            "\n",
            "🔬 Einstein's Equation: E = m * c² \n",
            "\n",
            "📌 Mass (m)  = 45.0 kg \n",
            "\n",
            "⚡ Speed of Light (C) = 299,792,458 m/s\n",
            "\n",
            "💥 Energy (E) ≈ 4.04e+18 joules!\n",
            "\n"
          ]
        }
      ],
      "source": [
        "C = 299_792_458  # The speed of light in m/s\n",
        "\n",
        "def main():\n",
        "    \"\"\"\n",
        "    This program calculates energy (E) from mass (m) using Einstein's equation: E = mc^2.\n",
        "    The user provides mass in kilograms, and the program outputs energy in joules.\n",
        "    \"\"\"\n",
        "\n",
        "    # Get user input and convert it to float\n",
        "    mass: float = float(input(\"Enter mass in kilograms: \"))\n",
        "\n",
        "    # Calculate energy\n",
        "    energy: float = mass * (C ** 2)\n",
        "\n",
        "    # Display results\n",
        "    print(\"\\n🔬 Einstein's Equation: E = m * c² \\n\")\n",
        "    print(f\"📌 Mass (m)  = {mass} kg \\n\")\n",
        "    print(f\"⚡ Speed of Light (C) = {C:,} m/s\\n\")\n",
        "    print(f\"💥 Energy (E) ≈ {energy:.2e} joules!\\n\")\n",
        "\n",
        "if __name__ == '__main__':\n",
        "    main()\n"
      ]
    }
  ]
}