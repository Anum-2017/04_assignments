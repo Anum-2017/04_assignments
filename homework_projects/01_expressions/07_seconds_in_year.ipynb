{
  "nbformat": 4,
  "nbformat_minor": 0,
  "metadata": {
    "colab": {
      "provenance": []
    },
    "kernelspec": {
      "name": "python3",
      "display_name": "Python 3"
    },
    "language_info": {
      "name": "python"
    }
  },
  "cells": [
    {
      "cell_type": "code",
      "execution_count": 6,
      "metadata": {
        "colab": {
          "base_uri": "https://localhost:8080/"
        },
        "id": "-UdD2WUus9fZ",
        "outputId": "72279b82-44aa-4ab1-f503-04c5380fd917"
      },
      "outputs": [
        {
          "output_type": "stream",
          "name": "stdout",
          "text": [
            "🚀 Welcome to the Seconds in a Year Calculator! ⏳ \n",
            "\n",
            "📢 There are 🎉 31,536,000 seconds in a year! 🎊\n"
          ]
        }
      ],
      "source": [
        "# How many seconds are there in a year? Let's calculate!\n",
        "\n",
        "# Welcome message\n",
        "print(\"🚀 Welcome to the Seconds in a Year Calculator! ⏳ \\n\")\n",
        "\n",
        "# Define constants\n",
        "SECONDS_IN_MINUTE = 60\n",
        "MINUTES_IN_HOUR = 60\n",
        "HOURS_IN_DAY = 24\n",
        "DAYS_IN_YEAR = 365\n",
        "\n",
        "# Calculate the total number of seconds in a year\n",
        "seconds_in_year = SECONDS_IN_MINUTE * MINUTES_IN_HOUR * HOURS_IN_DAY * DAYS_IN_YEAR\n",
        "\n",
        "print(f\"📢 There are 🎉 {seconds_in_year:,} seconds in a year! 🎊\")"
      ]
    }
  ]
}