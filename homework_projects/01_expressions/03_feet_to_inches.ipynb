{
  "nbformat": 4,
  "nbformat_minor": 0,
  "metadata": {
    "colab": {
      "provenance": []
    },
    "kernelspec": {
      "name": "python3",
      "display_name": "Python 3"
    },
    "language_info": {
      "name": "python"
    }
  },
  "cells": [
    {
      "cell_type": "code",
      "execution_count": 14,
      "metadata": {
        "colab": {
          "base_uri": "https://localhost:8080/"
        },
        "id": "8frT9wBGrUS6",
        "outputId": "8b01bd15-4120-43f7-a62f-9c34f1e092b5"
      },
      "outputs": [
        {
          "output_type": "stream",
          "name": "stdout",
          "text": [
            "\n",
            "🌟 Welcome to the Feet to Inches Converter! 🌟\n",
            "\n",
            "👣 Enter number of feet: 41\n",
            "\n",
            "✅ 41.0 feet is equal to 492.00 inches. 📏\n"
          ]
        }
      ],
      "source": [
        "\"\"\"\n",
        "A program that converts feet to inches using a constant conversion factor.\n",
        "\"\"\"\n",
        "\n",
        "INCHES_IN_FOOT: int = 12  # 1 foot = 12 inches\n",
        "\n",
        "def main():\n",
        "    print(\"\\n🌟 Welcome to the Feet to Inches Converter! 🌟\\n\")\n",
        "\n",
        "    feet: float = float(input(\"👣 Enter number of feet: \").strip())\n",
        "\n",
        "    if feet < 0:\n",
        "        print(\"\\n⚠️ Please enter a non-negative number.\\n\")\n",
        "        return\n",
        "\n",
        "    inches: float = feet * INCHES_IN_FOOT\n",
        "\n",
        "    print(f\"\\n✅ {feet} feet is equal to {inches:.2f} inches. 📏\")\n",
        "\n",
        "if __name__ == '__main__':\n",
        "    main()"
      ]
    }
  ]
}