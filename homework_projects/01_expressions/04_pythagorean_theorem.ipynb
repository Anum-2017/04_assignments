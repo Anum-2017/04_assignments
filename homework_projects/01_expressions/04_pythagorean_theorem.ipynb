{
  "nbformat": 4,
  "nbformat_minor": 0,
  "metadata": {
    "colab": {
      "provenance": []
    },
    "kernelspec": {
      "name": "python3",
      "display_name": "Python 3"
    },
    "language_info": {
      "name": "python"
    }
  },
  "cells": [
    {
      "cell_type": "code",
      "execution_count": 25,
      "metadata": {
        "colab": {
          "base_uri": "https://localhost:8080/"
        },
        "id": "XgCh6ASU0vNK",
        "outputId": "266c06b3-488f-4e99-f672-cf24817e9b3c"
      },
      "outputs": [
        {
          "output_type": "stream",
          "name": "stdout",
          "text": [
            "\n",
            "📐 Welcome to the Pythagorean Theorem Calculator! 🏗️\n",
            "\n",
            "\n",
            " 🔢 Enter the length of AB: 3\n",
            "\n",
            " 🔢 Enter the length of AC: 4\n",
            "\n",
            " ✅ The length of BC (the hypotenuse) is: 5.00\n",
            "\n"
          ]
        }
      ],
      "source": [
        "import math\n",
        "\n",
        "print(\"\\n📐 Welcome to the Pythagorean Theorem Calculator! 🏗️\\n\")\n",
        "\n",
        "def calculate_hypotenuse():\n",
        "\n",
        "    ab = float(input(\"\\n 🔢 Enter the length of AB: \"))\n",
        "    ac = float(input(\"\\n 🔢 Enter the length of AC: \"))\n",
        "\n",
        "    if ab <= 0 or ac <= 0:\n",
        "        print(\"\\n❌ Please enter positive numbers for the sides.\\n\")\n",
        "        return\n",
        "\n",
        "    bc = math.sqrt(ab**2 + ac**2)\n",
        "\n",
        "    print(f\"\\n ✅ The length of BC (the hypotenuse) is: {bc:.2f}\\n\")\n",
        "\n",
        "calculate_hypotenuse()"
      ]
    }
  ]
}