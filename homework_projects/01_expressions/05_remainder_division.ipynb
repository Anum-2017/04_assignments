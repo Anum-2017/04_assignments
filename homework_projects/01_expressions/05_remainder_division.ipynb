{
  "nbformat": 4,
  "nbformat_minor": 0,
  "metadata": {
    "colab": {
      "provenance": []
    },
    "kernelspec": {
      "name": "python3",
      "display_name": "Python 3"
    },
    "language_info": {
      "name": "python"
    }
  },
  "cells": [
    {
      "cell_type": "code",
      "execution_count": 21,
      "metadata": {
        "colab": {
          "base_uri": "https://localhost:8080/"
        },
        "id": "3hn-0xllNg8Y",
        "outputId": "1615a59d-d721-408d-ec51-50a49075b682"
      },
      "outputs": [
        {
          "output_type": "stream",
          "name": "stdout",
          "text": [
            "\n",
            "📢 Welcome! This program will ask for two numbers, divide the first by the second, and show the result along with the remainder.\n",
            "\n",
            "\n",
            "🔢 Please enter an integer to be divided: 20\n",
            "\n",
            "\n",
            "➗ Please enter an integer to divide by: 7\n",
            "\n",
            "✅ The result of this division is 2 with a remainder of 6 🎉\n",
            "\n"
          ]
        }
      ],
      "source": [
        "def main():\n",
        "    print(\"\\n📢 Welcome! This program will ask for two numbers, divide the first by the second, and show the result along with the remainder.\\n\")\n",
        "\n",
        "    dividend = int(input(\"\\n🔢 Please enter an integer to be divided: \"))\n",
        "\n",
        "    print(\"\\n\")\n",
        "\n",
        "    divisor = int(input(\"➗ Please enter an integer to divide by: \"))\n",
        "\n",
        "    quotient = dividend // divisor\n",
        "    remainder = dividend % divisor\n",
        "\n",
        "    print(f\"\\n✅ The result of this division is {quotient} with a remainder of {remainder} 🎉\\n\")\n",
        "\n",
        "if __name__ == '__main__':\n",
        "    main()"
      ]
    }
  ]
}