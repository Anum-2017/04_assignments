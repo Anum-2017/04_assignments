{
  "nbformat": 4,
  "nbformat_minor": 0,
  "metadata": {
    "colab": {
      "provenance": []
    },
    "kernelspec": {
      "name": "python3",
      "display_name": "Python 3"
    },
    "language_info": {
      "name": "python"
    }
  },
  "cells": [
    {
      "cell_type": "code",
      "execution_count": 6,
      "metadata": {
        "id": "_UJED7jDyGJA",
        "colab": {
          "base_uri": "https://localhost:8080/"
        },
        "outputId": "b97a78db-c46c-480a-abd8-00606d6f1ca2"
      },
      "outputs": [
        {
          "output_type": "stream",
          "name": "stdout",
          "text": [
            "🎉 Welcome to the Python Mad Libs Game! 🐍 Let's have some fun with words! ✨ \n",
            "\n",
            "🎨 Please type an adjective and press enter: smart\n",
            "\n",
            "📦 Please type a noun and press enter: chatbot\n",
            "\n",
            "⚡ Please type a verb and press enter: reply\n",
            "\n",
            "🐍 Python makes coding fun! 🎉 With my skills, I created a smart chatbot that can reply! 🚀💡\n"
          ]
        }
      ],
      "source": [
        "# Mad Libs Game\n",
        "\n",
        "import random\n",
        "\n",
        "print(\"🎉 Welcome to the Python Mad Libs Game! 🐍 Let's have some fun with words! ✨ \\n\")\n",
        "\n",
        "SENTENCES = [\n",
        "    \"🐍 Python makes coding fun! 🎉 With my skills, I created a {adjective} {noun} that can {verb}! 🚀💡\"\n",
        "]\n",
        "\n",
        "adjective = input(\"🎨 Please type an adjective and press enter: \")\n",
        "noun = input(\"\\n📦 Please type a noun and press enter: \")\n",
        "verb = input(\"\\n⚡ Please type a verb and press enter: \")\n",
        "\n",
        "sentence = random.choice(SENTENCES).format(adjective=adjective, noun=noun, verb=verb)\n",
        "\n",
        "print(\"\\n\" + sentence)"
      ]
    }
  ]
}