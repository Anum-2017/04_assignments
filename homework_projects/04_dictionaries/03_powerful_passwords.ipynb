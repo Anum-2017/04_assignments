{
  "nbformat": 4,
  "nbformat_minor": 0,
  "metadata": {
    "colab": {
      "provenance": []
    },
    "kernelspec": {
      "name": "python3",
      "display_name": "Python 3"
    },
    "language_info": {
      "name": "python"
    }
  },
  "cells": [
    {
      "cell_type": "code",
      "execution_count": 19,
      "metadata": {
        "colab": {
          "base_uri": "https://localhost:8080/"
        },
        "id": "ZNUbvIoP_qT1",
        "outputId": "4d26d2f4-4e27-4fa0-b709-b189771e6eee"
      },
      "outputs": [
        {
          "output_type": "stream",
          "name": "stdout",
          "text": [
            "🔍 Checking login credentials...\n",
            "\n",
            "🔑 Login attempt 1: True\n",
            "🔑 Login attempt 2: False\n",
            "🔑 Login attempt 3: True\n",
            "🔑 Login attempt 4: True\n",
            "🔑 Login attempt 5: False\n",
            "\n",
            "✅ Login checks completed!\n"
          ]
        }
      ],
      "source": [
        "from hashlib import sha256\n",
        "\n",
        "def hash_pwd(pwd):\n",
        "    return sha256(pwd.encode()).hexdigest()\n",
        "\n",
        "\n",
        "def check_pwd(email, stored_data, pwd):\n",
        "    return stored_data.get(email) == hash_pwd(pwd)\n",
        "\n",
        "def main():\n",
        "    stored_data = {\n",
        "        \"anumk2024@gmail.com\": hash_pwd(\"anum@50\"),\n",
        "        \"coderhub167@gmail.com\": hash_pwd(\"code12321\"),\n",
        "        \"simraj276@gmail.com\": hash_pwd(\"simra245\"),\n",
        "        \"sadia72@gmail.com\": hash_pwd(\"pak_12345\")\n",
        "    }\n",
        "\n",
        "    print(\"🔍 Checking login credentials...\\n\")\n",
        "\n",
        "    print(\"🔑 Login attempt 1:\", check_pwd(\"anumk2024@gmail.com\", stored_data, \"anum@50\"))\n",
        "    print(\"🔑 Login attempt 2:\", check_pwd(\"mahad20@gmail.com\", stored_data, \"pakistan27\"))\n",
        "    print(\"🔑 Login attempt 3:\", check_pwd(\"coderhub167@gmail.com\", stored_data, \"code12321\"))\n",
        "    print(\"🔑 Login attempt 4:\", check_pwd(\"simraj276@gmail.com\", stored_data, \"simra245\"))\n",
        "    print(\"🔑 Login attempt 5:\", check_pwd(\"sadia72@gmail.com\", stored_data, \"wrong_12345\"))\n",
        "\n",
        "    print(\"\\n✅ Login checks completed!\")\n",
        "\n",
        "main()"
      ]
    }
  ]
}