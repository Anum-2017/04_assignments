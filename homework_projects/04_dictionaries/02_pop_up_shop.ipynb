{
  "nbformat": 4,
  "nbformat_minor": 0,
  "metadata": {
    "colab": {
      "provenance": []
    },
    "kernelspec": {
      "name": "python3",
      "display_name": "Python 3"
    },
    "language_info": {
      "name": "python"
    }
  },
  "cells": [
    {
      "cell_type": "code",
      "execution_count": 11,
      "metadata": {
        "colab": {
          "base_uri": "https://localhost:8080/"
        },
        "id": "qKX3AZKX-O0g",
        "outputId": "32d611e7-ce6f-4e3b-b428-c5cd838b6b22"
      },
      "outputs": [
        {
          "output_type": "stream",
          "name": "stdout",
          "text": [
            "🧺 Welcome to the Fruit Shop Calculator! 🧺\n",
            "\n",
            "How many apple 🍏 do you want? : 2\n",
            "How many banana 🍌 do you want? : 3\n",
            "How many cherry 🍒 do you want? : 1\n",
            "How many grape 🍇 do you want? : 4\n",
            "How many orange 🍊 do you want? : 2\n",
            "How many mango 🥭 do you want? : 3\n",
            "\n",
            "💰 The total amount of fruits you need to pay is: $91.50 \n"
          ]
        }
      ],
      "source": [
        "print(\"🧺 Welcome to the Fruit Shop Calculator! 🧺\\n\")\n",
        "\n",
        "fruit_prices = {\n",
        "   \"apple 🍏\": 5.0,\n",
        "    \"banana 🍌\": 3.0,\n",
        "    \"cherry 🍒\": 6.0,\n",
        "    \"grape 🍇\": 4.5,\n",
        "    \"orange 🍊\": 5.5,\n",
        "    \"mango 🥭\": 12.5\n",
        "}\n",
        "\n",
        "total_cost = 0\n",
        "\n",
        "for fruit, price in fruit_prices.items():\n",
        "    quantity = int(input(f\"How many {fruit} do you want? : \"))\n",
        "    if quantity < 0:\n",
        "        print(\"❌ Please enter a non-negative number.\")\n",
        "    else:\n",
        "        total_cost += quantity * price\n",
        "\n",
        "print(f\"\\n💰 The total amount of fruits you need to pay is: ${total_cost:.2f} \")\n"
      ]
    }
  ]
}