{
  "nbformat": 4,
  "nbformat_minor": 0,
  "metadata": {
    "colab": {
      "provenance": []
    },
    "kernelspec": {
      "name": "python3",
      "display_name": "Python 3"
    },
    "language_info": {
      "name": "python"
    }
  },
  "cells": [
    {
      "cell_type": "code",
      "execution_count": 15,
      "metadata": {
        "colab": {
          "base_uri": "https://localhost:8080/"
        },
        "id": "EASc-D2gN4tn",
        "outputId": "4c498f1c-7f36-40de-a021-9729189a67dd"
      },
      "outputs": [
        {
          "output_type": "stream",
          "name": "stdout",
          "text": [
            "🔢 Enter a number: 3\n",
            "🔢 Enter a number: 3\n",
            "🔢 Enter a number: 5\n",
            "🔢 Enter a number: 6\n",
            "🔢 Enter a number: 6\n",
            "🔢 Enter a number: 5\n",
            "🔢 Enter a number: 2\n",
            "🔢 Enter a number: 1\n",
            "🔢 Enter a number: 1\n",
            "🔢 Enter a number: 4\n",
            "🔢 Enter a number: \n",
            "\n",
            "📊 Here’s how many times each number appeared: \n",
            "\n",
            "🔢 3 appears 2 times.\n",
            "🔢 5 appears 2 times.\n",
            "🔢 6 appears 2 times.\n",
            "🔢 2 appears 1 times.\n",
            "🔢 1 appears 2 times.\n",
            "🔢 4 appears 1 times.\n"
          ]
        }
      ],
      "source": [
        "def user_numbers():\n",
        "\n",
        "    numbers = []\n",
        "\n",
        "    while True:\n",
        "        user_input = input(\"🔢 Enter a number: \")\n",
        "\n",
        "        if user_input == \"\":\n",
        "            break\n",
        "\n",
        "        numbers.append(int(user_input))\n",
        "\n",
        "    num_counts = {}\n",
        "\n",
        "    for num in numbers:\n",
        "        num_counts[num] = num_counts.get(num, 0) + 1\n",
        "\n",
        "    print(\"\\n📊 Here’s how many times each number appeared: \\n\")\n",
        "    for num, count in num_counts.items():\n",
        "        # print(f\" {num} ➡️ {count} time(s) 🔁\")\n",
        "        print(f\"🔢 {num} appears {count} times.\")\n",
        "\n",
        "user_numbers()"
      ]
    }
  ]
}