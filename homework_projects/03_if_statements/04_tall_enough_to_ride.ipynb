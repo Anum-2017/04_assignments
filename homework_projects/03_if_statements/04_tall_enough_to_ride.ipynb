{
  "nbformat": 4,
  "nbformat_minor": 0,
  "metadata": {
    "colab": {
      "provenance": []
    },
    "kernelspec": {
      "name": "python3",
      "display_name": "Python 3"
    },
    "language_info": {
      "name": "python"
    }
  },
  "cells": [
    {
      "cell_type": "code",
      "execution_count": 11,
      "metadata": {
        "colab": {
          "base_uri": "https://localhost:8080/"
        },
        "id": "gIIi0ffkiGZj",
        "outputId": "f70257cf-dc7f-4631-8606-024d64393485"
      },
      "outputs": [
        {
          "output_type": "stream",
          "name": "stdout",
          "text": [
            "\n",
            "📏 How tall are you? (Press Enter to exit) 30\n",
            "\n",
            "😔 You're not quite tall enough yet, but keep growing strong! 💪🌟 Maybe next time! 🎢\n",
            "\n",
            "\n",
            "📏 How tall are you? (Press Enter to exit) 50\n",
            "\n",
            "🎉 You're tall enough to ride! Enjoy! 🎢😃\n",
            "\n",
            "\n",
            "📏 How tall are you? (Press Enter to exit) \n",
            "\n",
            "👋 Exiting program. Have a great day! 🎉\n",
            "\n"
          ]
        }
      ],
      "source": [
        "def tall_enough():\n",
        "    min_height = 50\n",
        "\n",
        "    while True:\n",
        "        height = input(\"\\n📏 How tall are you? (Press Enter to exit) \").strip()\n",
        "\n",
        "        if height == \"\":\n",
        "            print(\"\\n👋 Exiting program. Have a great day! 🎉\\n\")\n",
        "            break\n",
        "\n",
        "        try:\n",
        "            height = int(height)\n",
        "\n",
        "            if height < 0:\n",
        "                print(\"\\n❌ Height cannot be negative. Please enter a valid number.\\n\")\n",
        "            elif height >= min_height:\n",
        "                print(\"\\n🎉 You're tall enough to ride! Enjoy! 🎢😃\\n\")\n",
        "            else:\n",
        "               print(\"\\n😔 You're not quite tall enough yet, but keep growing strong! 💪🌟 Maybe next time! 🎢\\n\")\n",
        "\n",
        "\n",
        "        except ValueError:\n",
        "            print(\"\\n⚠️ Please enter a valid number.\\n\")\n",
        "\n",
        "tall_enough()"
      ]
    }
  ]
}