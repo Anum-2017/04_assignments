{
  "nbformat": 4,
  "nbformat_minor": 0,
  "metadata": {
    "colab": {
      "provenance": []
    },
    "kernelspec": {
      "name": "python3",
      "display_name": "Python 3"
    },
    "language_info": {
      "name": "python"
    }
  },
  "cells": [
    {
      "cell_type": "code",
      "execution_count": 6,
      "metadata": {
        "colab": {
          "base_uri": "https://localhost:8080/"
        },
        "id": "8c4XwyjERsaH",
        "outputId": "b5be6b1a-cc9b-4a5c-dcf5-0d935952748f"
      },
      "outputs": [
        {
          "output_type": "stream",
          "name": "stdout",
          "text": [
            "✨ First 20 Even Numbers ✨\n",
            "\n",
            "0\n",
            "2\n",
            "4\n",
            "6\n",
            "8\n",
            "10\n",
            "12\n",
            "14\n",
            "16\n",
            "18\n",
            "20\n",
            "22\n",
            "24\n",
            "26\n",
            "28\n",
            "30\n",
            "32\n",
            "34\n",
            "36\n",
            "38\n"
          ]
        }
      ],
      "source": [
        "\"\"\"\n",
        "Write a program that prints the first 20 even numbers.\n",
        "There are several correct approaches, but they all use a loop of some sort.\n",
        "Do not write twenty print statements.\n",
        "\"\"\"\n",
        "\n",
        "def main():\n",
        "    print(\"✨ First 20 Even Numbers ✨\\n\")\n",
        "\n",
        "    for i in range(20):\n",
        "\n",
        "        print(i * 2)\n",
        "\n",
        "if __name__ == \"__main__\":\n",
        "    main()"
      ]
    }
  ]
}