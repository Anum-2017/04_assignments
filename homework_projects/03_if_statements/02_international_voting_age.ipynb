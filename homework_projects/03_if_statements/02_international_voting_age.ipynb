{
  "nbformat": 4,
  "nbformat_minor": 0,
  "metadata": {
    "colab": {
      "provenance": []
    },
    "kernelspec": {
      "name": "python3",
      "display_name": "Python 3"
    },
    "language_info": {
      "name": "python"
    }
  },
  "cells": [
    {
      "cell_type": "code",
      "execution_count": 7,
      "metadata": {
        "colab": {
          "base_uri": "https://localhost:8080/"
        },
        "id": "5XJZnDmcW7tE",
        "outputId": "66da0921-76f4-4460-96f4-542ce4881b46"
      },
      "outputs": [
        {
          "output_type": "stream",
          "name": "stdout",
          "text": [
            "\n",
            "--- First User ---\n",
            "\n",
            "🗳️ How old are you? 24\n",
            "\n",
            "✅ You can vote in Peturksbouipo where the voting age is 16. 🎉\n",
            "\n",
            "\n",
            "❌ You cannot vote in Stanlau where the voting age is 25. 📅\n",
            "\n",
            "\n",
            "❌ You cannot vote in Mayengua where the voting age is 48. ⏳\n",
            "\n",
            "\n",
            "--- Second User ---\n",
            "\n",
            "🗳️ How old are you? 48\n",
            "\n",
            "✅ You can vote in Peturksbouipo where the voting age is 16. 🎉\n",
            "\n",
            "\n",
            "✅ You can vote in Stanlau where the voting age is 25. 🗳️\n",
            "\n",
            "\n",
            "✅ You can vote in Mayengua where the voting age is 48. 🎊\n",
            "\n"
          ]
        }
      ],
      "source": [
        "# Define voting ages for different places\n",
        "peturksbouipo_age: int = 16\n",
        "stanlau_age: int = 25\n",
        "mayengua_age: int = 48\n",
        "\n",
        "def voting_status():\n",
        "    # Prompt the user to enter their age\n",
        "    user_age = int(input(\"\\n🗳️ How old are you? \"))\n",
        "\n",
        "    # Check if the user can vote in Peturksbouipo\n",
        "    if user_age >= peturksbouipo_age:\n",
        "        print(f\"\\n✅ You can vote in Peturksbouipo where the voting age is {peturksbouipo_age}. 🎉\\n\")\n",
        "    else:\n",
        "        print(f\"\\n❌ You cannot vote in Peturksbouipo where the voting age is {peturksbouipo_age}. ⏳\\n\")\n",
        "\n",
        "    # Check if the user can vote in Stanlau\n",
        "    if user_age >= stanlau_age:\n",
        "        print(f\"\\n✅ You can vote in Stanlau where the voting age is {stanlau_age}. 🗳️\\n\")\n",
        "    else:\n",
        "        print(f\"\\n❌ You cannot vote in Stanlau where the voting age is {stanlau_age}. 📅\\n\")\n",
        "\n",
        "    # Check if the user can vote in Mayengua\n",
        "    if user_age >= mayengua_age:\n",
        "        print(f\"\\n✅ You can vote in Mayengua where the voting age is {mayengua_age}. 🎊\\n\")\n",
        "    else:\n",
        "        print(f\"\\n❌ You cannot vote in Mayengua where the voting age is {mayengua_age}. ⏳\\n\")\n",
        "\n",
        "if __name__ == \"__main__\":\n",
        "    print(\"\\n--- First User ---\")\n",
        "    voting_status()\n",
        "\n",
        "\n",
        "    print(\"\\n--- Second User ---\")\n",
        "    voting_status()"
      ]
    }
  ]
}