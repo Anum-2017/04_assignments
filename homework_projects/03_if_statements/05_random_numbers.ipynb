{
  "nbformat": 4,
  "nbformat_minor": 0,
  "metadata": {
    "colab": {
      "provenance": []
    },
    "kernelspec": {
      "name": "python3",
      "display_name": "Python 3"
    },
    "language_info": {
      "name": "python"
    }
  },
  "cells": [
    {
      "cell_type": "code",
      "execution_count": 14,
      "metadata": {
        "colab": {
          "base_uri": "https://localhost:8080/"
        },
        "id": "Tvk29eoNo041",
        "outputId": "1361a27b-82a8-41f2-fc1d-b900cf519833"
      },
      "outputs": [
        {
          "output_type": "stream",
          "name": "stdout",
          "text": [
            "🎉 First set of random numbers: 🎲\n",
            "\n",
            "✨ 6 78 100 98 72 20 5 67 70 32 ✨\n"
          ]
        }
      ],
      "source": [
        "import random\n",
        "\n",
        "# 🎯 Define constants\n",
        "N_NUMBERS: int = 10\n",
        "MIN_VALUE: int = 1\n",
        "MAX_VALUE: int = 100\n",
        "\n",
        "# 🎲 Generate random numbers\n",
        "random_numbers1 = [random.randint(MIN_VALUE, MAX_VALUE) for _ in range(N_NUMBERS)]\n",
        "\n",
        "# 🖨️ Print the numbers with some excitement!\n",
        "print(\"🎉 First set of random numbers: 🎲\\n\")\n",
        "print(\"✨ \" + \" \".join(map(str, random_numbers1)) + \" ✨\")\n"
      ]
    }
  ]
}