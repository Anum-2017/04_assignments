{
  "nbformat": 4,
  "nbformat_minor": 0,
  "metadata": {
    "colab": {
      "provenance": []
    },
    "kernelspec": {
      "name": "python3",
      "display_name": "Python 3"
    },
    "language_info": {
      "name": "python"
    }
  },
  "cells": [
    {
      "cell_type": "code",
      "execution_count": 5,
      "metadata": {
        "colab": {
          "base_uri": "https://localhost:8080/"
        },
        "id": "d16z7fvgdQ95",
        "outputId": "5b95061e-7663-49b4-d5eb-3cf36c2a7ddc"
      },
      "outputs": [
        {
          "output_type": "stream",
          "name": "stdout",
          "text": [
            "🔎 Let's check if a year is a leap year or not! 🎯\n",
            "\n",
            "📅 Enter a year: 2024\n",
            "\n",
            "🎉 2024 is a leap year! 🎊 (366 days!)\n"
          ]
        }
      ],
      "source": [
        "print(\"🔎 Let's check if a year is a leap year or not! 🎯\\n\")\n",
        "\n",
        "# Get user input\n",
        "year = int(input(\"📅 Enter a year: \"))\n",
        "\n",
        "print()\n",
        "\n",
        "if (year % 4 == 0 and year % 100 != 0) or (year % 400 == 0):\n",
        "    print(f\"🎉 {year} is a leap year! 🎊 (366 days!)\")\n",
        "else:\n",
        "    print(f\"❌ {year} is not a leap year! (365 days!)\")"
      ]
    }
  ]
}